{
 "cells": [
  {
   "cell_type": "code",
   "execution_count": 1,
   "metadata": {},
   "outputs": [],
   "source": [
    "def solution(n):\n",
    "    combinations = []\n",
    "    for piles in range(2, n):\n",
    "        # initialise the number of bricks\n",
    "        bricks = n\n",
    "        \n",
    "        # initialise the piles\n",
    "        layers = [0] * piles\n",
    "        \n",
    "        while bricks > 0:\n",
    "            # start filling piles\n",
    "            for pile in range(piles):\n",
    "                layers[pile] += 1\n",
    "                bricks -= 1\n",
    "        if is_valid(layers):\n",
    "            combinations.append(layers)\n",
    "    return combinations\n",
    "    \n",
    "\n",
    "def is_valid(layers):\n",
    "    valid = True\n",
    "    for i in range(len(layers) - 1):\n",
    "         valid &= layers[i] > layers[i + 1]\n",
    "    return valid "
   ]
  },
  {
   "cell_type": "code",
   "execution_count": 2,
   "metadata": {},
   "outputs": [
    {
     "data": {
      "text/plain": [
       "[]"
      ]
     },
     "execution_count": 2,
     "metadata": {},
     "output_type": "execute_result"
    }
   ],
   "source": [
    "a = solution(4)\n",
    "a"
   ]
  },
  {
   "cell_type": "code",
   "execution_count": 37,
   "metadata": {},
   "outputs": [
    {
     "data": {
      "text/plain": [
       "[(1, 2, 3), (1, 3, 2), (2, 1, 3), (2, 3, 1), (3, 1, 2), (3, 2, 1)]"
      ]
     },
     "execution_count": 37,
     "metadata": {},
     "output_type": "execute_result"
    }
   ],
   "source": [
    "import itertools\n",
    "list(itertools.permutations([1, 2, 3]))"
   ]
  },
  {
   "cell_type": "code",
   "execution_count": 1,
   "metadata": {},
   "outputs": [],
   "source": [
    "def permutations(addends):\n",
    "    combinations = []\n",
    "    def permute(addends, step=0):\n",
    "        if step == len(addends):\n",
    "            combinations.append(addends)\n",
    "            return addends\n",
    "\n",
    "        for i in range(step, len(addends)):\n",
    "            current = list(addends)\n",
    "            current[i], current[step] = current[step], current[i]\n",
    "            permute(current, step + 1)\n",
    "    permute(addends)\n",
    "    return combinations"
   ]
  },
  {
   "cell_type": "code",
   "execution_count": 2,
   "metadata": {},
   "outputs": [
    {
     "name": "stdout",
     "output_type": "stream",
     "text": [
      "[[1, 2, 3], [1, 3, 2], [2, 1, 3], [2, 3, 1], [3, 2, 1], [3, 1, 2]]\n"
     ]
    }
   ],
   "source": [
    "a = permutations([1, 2, 3])\n",
    "print(a)"
   ]
  },
  {
   "cell_type": "code",
   "execution_count": 11,
   "metadata": {},
   "outputs": [],
   "source": [
    "def decompose(number, n_addends):\n",
    "    decomposed = []\n",
    "    for i in range(1, number):\n",
    "        current = number\n",
    "        while current > 0:\n",
    "            a = i\n",
    "            b = number - i\n",
    "        decomposed.append([a, b])\n",
    "    return decomposed"
   ]
  },
  {
   "cell_type": "code",
   "execution_count": 12,
   "metadata": {},
   "outputs": [
    {
     "data": {
      "text/plain": [
       "[[1, 4], [2, 3], [3, 2], [4, 1]]"
      ]
     },
     "execution_count": 12,
     "metadata": {},
     "output_type": "execute_result"
    }
   ],
   "source": [
    "decompose(5, 3)"
   ]
  },
  {
   "cell_type": "code",
   "execution_count": null,
   "metadata": {},
   "outputs": [],
   "source": []
  },
  {
   "cell_type": "code",
   "execution_count": null,
   "metadata": {},
   "outputs": [],
   "source": []
  },
  {
   "cell_type": "code",
   "execution_count": 39,
   "metadata": {},
   "outputs": [],
   "source": [
    "def build_top(bricks, remaining):\n",
    "    # termination 1: no bricks left\n",
    "    if remaining == 0:\n",
    "        return 1\n",
    "    \n",
    "    # termination 2: next state not valid\n",
    "    if remaining < bricks:\n",
    "        return 0\n",
    "    \n",
    "    # break it into dynamic atomic subproblems\n",
    "    return build_top(bricks + 1, remaining - bricks) + build_top(bricks + 1, remaining)\n",
    "\n",
    "def solution(n):\n",
    "    return build(1, n) - 1"
   ]
  },
  {
   "cell_type": "code",
   "execution_count": 45,
   "metadata": {},
   "outputs": [],
   "source": [
    "def build_bottom(bricks):\n",
    "    # create table\n",
    "    table = [[0 for i in range(bricks + 1)] for j in range(bricks + 1)]\n",
    "    \n",
    "    # init state\n",
    "    table[0][0] = 1\n",
    "    \n",
    "    # tabulate\n",
    "    for last in range(1, bricks + 1):\n",
    "        for left in range(bricks + 1):\n",
    "            # update state\n",
    "            table[last][left] = table[last - 1][left]\n",
    "            \n",
    "            # check if state is valid\n",
    "            if left >= last:\n",
    "                table[last][left] += table[last - 1][left - last]\n",
    "                \n",
    "    return table[bricks][bricks] - 1\n",
    "\n",
    "def solution(n):\n",
    "    return build_bottom(n)"
   ]
  },
  {
   "cell_type": "code",
   "execution_count": 46,
   "metadata": {},
   "outputs": [
    {
     "data": {
      "text/plain": [
       "487067745"
      ]
     },
     "execution_count": 46,
     "metadata": {},
     "output_type": "execute_result"
    }
   ],
   "source": [
    "solution(200)"
   ]
  },
  {
   "cell_type": "code",
   "execution_count": 21,
   "metadata": {},
   "outputs": [],
   "source": [
    "def calculate_steps(n):\n",
    "    # pad size\n",
    "\n",
    "    # create zero-filled matrix\n",
    "    matrix = [[0 for _ in range(n + 1)] for _ in range(n + 1)]\n",
    "\n",
    "    # base value is always padded and skipped\n",
    "    matrix[0][0] = 1\n",
    "    for prev in range(1, n + 1):\n",
    "        for left in range(0, n + 1):\n",
    "            matrix[prev][left] = matrix[prev - 1][left]\n",
    "            if left >= prev:\n",
    "                matrix[prev][left] += matrix[prev - 1][left - prev]\n",
    "\n",
    "    return matrix[n][n] - 1\n",
    "\n",
    "def solution(n):\n",
    "    return calculate_steps(n)"
   ]
  },
  {
   "cell_type": "code",
   "execution_count": 23,
   "metadata": {},
   "outputs": [
    {
     "data": {
      "text/plain": [
       "487067745"
      ]
     },
     "execution_count": 23,
     "metadata": {},
     "output_type": "execute_result"
    }
   ],
   "source": [
    "solution(200)"
   ]
  },
  {
   "cell_type": "code",
   "execution_count": null,
   "metadata": {},
   "outputs": [],
   "source": []
  }
 ],
 "metadata": {
  "kernelspec": {
   "display_name": "Python 3",
   "language": "python",
   "name": "python3"
  },
  "language_info": {
   "codemirror_mode": {
    "name": "ipython",
    "version": 3
   },
   "file_extension": ".py",
   "mimetype": "text/x-python",
   "name": "python",
   "nbconvert_exporter": "python",
   "pygments_lexer": "ipython3",
   "version": "3.7.4"
  }
 },
 "nbformat": 4,
 "nbformat_minor": 4
}
