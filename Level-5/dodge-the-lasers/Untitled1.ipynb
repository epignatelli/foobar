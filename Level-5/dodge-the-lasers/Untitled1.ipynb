{
 "cells": [
  {
   "cell_type": "code",
   "execution_count": 25,
   "metadata": {},
   "outputs": [
    {
     "name": "stdout",
     "output_type": "stream",
     "text": [
      "0 0 0\n",
      "1 1 0\n",
      "2 2 0\n",
      "3 4 1\n",
      "4 5 1\n",
      "5 7 2\n",
      "6 8 2\n",
      "7 9 2\n",
      "8 11 3\n",
      "9 12 3\n",
      "10 14 4\n",
      "11 15 4\n",
      "12 16 4\n",
      "13 18 5\n",
      "14 19 5\n",
      "15 21 6\n",
      "16 22 6\n",
      "17 24 7\n",
      "18 25 7\n",
      "19 26 7\n",
      "20 28 8\n",
      "21 29 8\n",
      "22 31 9\n",
      "23 32 9\n",
      "24 33 9\n",
      "25 35 10\n",
      "26 36 10\n",
      "27 38 11\n",
      "28 39 11\n",
      "29 41 12\n",
      "30 42 12\n",
      "31 43 12\n",
      "32 45 13\n",
      "33 46 13\n",
      "34 48 14\n",
      "35 49 14\n",
      "36 50 14\n",
      "37 52 15\n",
      "38 53 15\n",
      "39 55 16\n",
      "40 56 16\n",
      "41 57 16\n",
      "42 59 17\n",
      "43 60 17\n",
      "44 62 18\n",
      "45 63 18\n",
      "46 65 19\n",
      "47 66 19\n",
      "48 67 19\n",
      "49 69 20\n"
     ]
    },
    {
     "data": {
      "text/plain": [
       "[<matplotlib.lines.Line2D at 0x7fd5c94210d0>]"
      ]
     },
     "execution_count": 25,
     "metadata": {},
     "output_type": "execute_result"
    },
    {
     "data": {
      "image/png": "[encoded data removed]",
      "text/plain": [
       "<Figure size 432x288 with 1 Axes>"
      ]
     },
     "metadata": {
      "needs_background": "light"
     },
     "output_type": "display_data"
    }
   ],
   "source": [
    "import math\n",
    "import matplotlib.pyplot as plt\n",
    "\n",
    "def f(n):\n",
    "    arr = []\n",
    "    for i in range(n):\n",
    "        v = i * math.sqrt(2)\n",
    "        print(i, math.floor(v), math.floor(v) - i)\n",
    "        arr.append(math.floor(v))\n",
    "    return arr\n",
    "\n",
    "plt.plot(f(50))"
   ]
  },
  {
   "cell_type": "code",
   "execution_count": 17,
   "metadata": {},
   "outputs": [
    {
     "data": {
      "text/plain": [
       "1.4142135623730951"
      ]
     },
     "execution_count": 17,
     "metadata": {},
     "output_type": "execute_result"
    }
   ],
   "source": [
    "math.sqrt(2)"
   ]
  },
  {
   "cell_type": "code",
   "execution_count": 21,
   "metadata": {},
   "outputs": [
    {
     "data": {
      "text/plain": [
       "24.026"
      ]
     },
     "execution_count": 21,
     "metadata": {},
     "output_type": "execute_result"
    }
   ],
   "source": [
    "41 - 41 * 0.414"
   ]
  },
  {
   "cell_type": "code",
   "execution_count": 10,
   "metadata": {},
   "outputs": [
    {
     "ename": "TypeError",
     "evalue": "sqrt() takes exactly one argument (0 given)",
     "output_type": "error",
     "traceback": [
      "\u001b[0;31m---------------------------------------------------------------------------\u001b[0m",
      "\u001b[0;31mTypeError\u001b[0m                                 Traceback (most recent call last)",
      "\u001b[0;32m<ipython-input-10-84842f756272>\u001b[0m in \u001b[0;36m<module>\u001b[0;34m\u001b[0m\n\u001b[0;32m----> 1\u001b[0;31m \u001b[0mmath\u001b[0m\u001b[0;34m.\u001b[0m\u001b[0msqrt\u001b[0m\u001b[0;34m(\u001b[0m\u001b[0;34m)\u001b[0m\u001b[0;34m\u001b[0m\u001b[0;34m\u001b[0m\u001b[0m\n\u001b[0m",
      "\u001b[0;31mTypeError\u001b[0m: sqrt() takes exactly one argument (0 given)"
     ]
    }
   ],
   "source": [
    "math.sqrt()"
   ]
  },
  {
   "cell_type": "code",
   "execution_count": null,
   "metadata": {},
   "outputs": [],
   "source": []
  }
 ],
 "metadata": {
  "kernelspec": {
   "display_name": "Python 3",
   "language": "python",
   "name": "python3"
  },
  "language_info": {
   "codemirror_mode": {
    "name": "ipython",
    "version": 3
   },
   "file_extension": ".py",
   "mimetype": "text/x-python",
   "name": "python",
   "nbconvert_exporter": "python",
   "pygments_lexer": "ipython3",
   "version": "3.7.6"
  }
 },
 "nbformat": 4,
 "nbformat_minor": 4
}
