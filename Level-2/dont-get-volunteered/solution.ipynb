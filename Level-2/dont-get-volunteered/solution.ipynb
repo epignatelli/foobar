{
 "cells": [
  {
   "cell_type": "code",
   "execution_count": null,
   "metadata": {},
   "outputs": [],
   "source": [
    "class Tree:\n",
    "    def __init__(self):\n",
    "        checkboard = []\n",
    "        for i in range(8):\n",
    "            checkboard.append(list(range(i * 8, (i + 1) * 8)))\n",
    "        self.checkboard = checkboard\n",
    "        \n",
    "    def node_position(self, node_id):\n",
    "        import math\n",
    "        x = math.floor(src / 8)\n",
    "        y = src - (8 * x)\n",
    "        return x, y\n",
    "    \n",
    "    def children(self, src):\n",
    "        x, y = self.node_position(src)\n",
    "        a = (x - 2, y + 1)\n",
    "        b = (x - 1, y + 2)\n",
    "        c = (x + 1, y + 2)\n",
    "        d = (x + 2, y + 1)\n",
    "        e = (x + 2, y - 1)\n",
    "        f = (x + 1, y - 2)\n",
    "        g = (x - 1, y - 2)\n",
    "        h = (x - 2, y - 1)\n",
    "\n",
    "        new_pos = []\n",
    "        for move in [a, b, c, d, e, f, g, h]:\n",
    "            # check if out of bounds\n",
    "            if (move[0] >= 0 and move[0] < 8) and (move[1] >= 0 and move[1] < 8):\n",
    "                x, y = move[0], move[1]\n",
    "                new_pos.append(self.checkboard[move[0]][move[1]])\n",
    "        return new_pos        \n",
    "        "
   ]
  },
  {
   "cell_type": "code",
   "execution_count": 91,
   "metadata": {},
   "outputs": [],
   "source": [
    "def get_checkboard():\n",
    "    checkboard = []\n",
    "    for i in range(8):\n",
    "        checkboard.append(list(range(i * 8, (i + 1) * 8)))\n",
    "    return checkboard\n",
    "\n",
    "def get_position(src):\n",
    "    x = int(src / 8)\n",
    "    y = src - (8 * x)\n",
    "    return x, y\n",
    "\n",
    "def children(src):\n",
    "    x, y = get_position(src)\n",
    "    checkboard = get_checkboard()\n",
    "    a = (x - 2, y + 1)\n",
    "    b = (x - 1, y + 2)\n",
    "    c = (x + 1, y + 2)\n",
    "    d = (x + 2, y + 1)\n",
    "    e = (x + 2, y - 1)\n",
    "    f = (x + 1, y - 2)\n",
    "    g = (x - 1, y - 2)\n",
    "    h = (x - 2, y - 1)\n",
    "\n",
    "    new_pos = []\n",
    "    for move in [a, b, c, d, e, f, g, h]:\n",
    "        # check if out of bounds\n",
    "        if (move[0] >= 0 and move[0] < 8) and (move[1] >= 0 and move[1] < 8):\n",
    "            x, y = move[0], move[1]\n",
    "            new_pos.append(checkboard[move[0]][move[1]])\n",
    "    return new_pos\n",
    "\n",
    "def breadth_first_search(src, dest):\n",
    "    queue = [src]\n",
    "    level = {src: 0}\n",
    "    \n",
    "    while len(queue) > 0:\n",
    "        node = queue.pop(0)\n",
    "        \n",
    "        for child in children(node):\n",
    "            if child not in level:\n",
    "                queue.append(child)\n",
    "                level[child] = level[node] + 1\n",
    "            \n",
    "            if child == dest:\n",
    "                return level[dest]\n",
    "    return 0\n",
    "\n",
    "def solution(src, dest):\n",
    "    return breadth_first_search(src, dest)"
   ]
  },
  {
   "cell_type": "code",
   "execution_count": 92,
   "metadata": {},
   "outputs": [
    {
     "data": {
      "text/plain": [
       "[[0, 1, 2, 3, 4, 5, 6, 7],\n",
       " [8, 9, 10, 11, 12, 13, 14, 15],\n",
       " [16, 17, 18, 19, 20, 21, 22, 23],\n",
       " [24, 25, 26, 27, 28, 29, 30, 31],\n",
       " [32, 33, 34, 35, 36, 37, 38, 39],\n",
       " [40, 41, 42, 43, 44, 45, 46, 47],\n",
       " [48, 49, 50, 51, 52, 53, 54, 55],\n",
       " [56, 57, 58, 59, 60, 61, 62, 63]]"
      ]
     },
     "execution_count": 92,
     "metadata": {},
     "output_type": "execute_result"
    }
   ],
   "source": [
    "get_checkboard()"
   ]
  },
  {
   "cell_type": "code",
   "execution_count": 93,
   "metadata": {},
   "outputs": [
    {
     "data": {
      "text/plain": [
       "(1, 6)"
      ]
     },
     "execution_count": 93,
     "metadata": {},
     "output_type": "execute_result"
    }
   ],
   "source": [
    "get_position(14)"
   ]
  },
  {
   "cell_type": "code",
   "execution_count": 94,
   "metadata": {},
   "outputs": [
    {
     "data": {
      "text/plain": [
       "[4, 13, 29, 36, 34, 25, 9, 2]"
      ]
     },
     "execution_count": 94,
     "metadata": {},
     "output_type": "execute_result"
    }
   ],
   "source": [
    "children(19)"
   ]
  },
  {
   "cell_type": "code",
   "execution_count": 96,
   "metadata": {},
   "outputs": [
    {
     "data": {
      "text/plain": [
       "3"
      ]
     },
     "execution_count": 96,
     "metadata": {},
     "output_type": "execute_result"
    }
   ],
   "source": [
    "breadth_first_search(0, 1)"
   ]
  },
  {
   "cell_type": "code",
   "execution_count": null,
   "metadata": {},
   "outputs": [],
   "source": []
  }
 ],
 "metadata": {
  "kernelspec": {
   "display_name": "Python 3",
   "language": "python",
   "name": "python3"
  },
  "language_info": {
   "codemirror_mode": {
    "name": "ipython",
    "version": 3
   },
   "file_extension": ".py",
   "mimetype": "text/x-python",
   "name": "python",
   "nbconvert_exporter": "python",
   "pygments_lexer": "ipython3",
   "version": "3.8.1"
  }
 },
 "nbformat": 4,
 "nbformat_minor": 4
}
