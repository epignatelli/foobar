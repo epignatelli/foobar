{
 "cells": [
  {
   "cell_type": "code",
   "execution_count": 16,
   "metadata": {},
   "outputs": [],
   "source": [
    "tests = [\n",
    "    {\n",
    "        \"q\": (3, 1),\n",
    "        \"a\": [[0], [0], [0]]\n",
    "    },\n",
    "    {\n",
    "        \"q\": (2, 2),\n",
    "        \"a\": [[0], [1]]\n",
    "    },    \n",
    "    {\n",
    "        \"q\": (3, 2),\n",
    "        \"a\": [[0, 1], [0, 2], [1, 2]]\n",
    "    },   \n",
    "    {\n",
    "        \"q\": (2, 1),\n",
    "        \"a\": [[0], [0]]\n",
    "    },    \n",
    "    {\n",
    "        \"q\": (4, 4),\n",
    "        \"a\": [[0], [1], [2], [3]]\n",
    "    },\n",
    "    {\n",
    "        \"q\": (5, 3),\n",
    "        \"a\": [[0, 1, 2, 3, 4, 5], [0, 1, 2, 6, 7, 8], [0, 3, 4, 6, 7, 9], [1, 3, 5, 6, 8, 9], [2, 4, 5, 7, 8, 9]]\n",
    "    },  \n",
    "]"
   ]
  },
  {
   "cell_type": "code",
   "execution_count": 187,
   "metadata": {},
   "outputs": [],
   "source": []
  },
  {
   "cell_type": "code",
   "execution_count": 21,
   "metadata": {},
   "outputs": [],
   "source": [
    "def distribute(num_buns, num_required):\n",
    "    \"\"\"\n",
    "    Distributes n keys to each bunny such that each num_required bunny can open all the locks\n",
    "    but num_required - 1 can't.\n",
    "    The total number of keys is (math.factorial(num_buns) / math.factorial(num_required) / (num_buns - num_required)).\n",
    "    Args:\n",
    "        num_buns (int): the number of available bunnies\n",
    "        num_required (int): the minimum number of required bunnies to open all locks\n",
    "    Returns:\n",
    "        List[List[int]]: Returns the list of keys received by each bunny\n",
    "    \"\"\"\n",
    "    n_key_copies = num_buns - num_required + 1\n",
    "    bunnies = [[] for _ in range(num_buns)]\n",
    "    \n",
    "    key = 0\n",
    "    for bunnies_idx in combinations(range(len(bunnies)), n_key_copies):\n",
    "        for idx in bunnies_idx:\n",
    "            bunnies[idx].append(key)\n",
    "        key += 1\n",
    "    return bunnies\n",
    "\n",
    "def solution(num_buns, num_required):\n",
    "    return distribute(num_buns, num_required)\n",
    "\n",
    "for test in tests:\n",
    "    assert solution(*(test[\"q\"])) == test[\"a\"]"
   ]
  },
  {
   "cell_type": "code",
   "execution_count": 22,
   "metadata": {},
   "outputs": [],
   "source": []
  },
  {
   "cell_type": "code",
   "execution_count": 320,
   "metadata": {},
   "outputs": [],
   "source": [
    "def solution(num_buns, num_required):\n",
    "    keyrings = [[] for num in range(num_buns)]\n",
    "    copies_per_key = num_buns - num_required + 1\n",
    "    for key, bunnies in enumerate(combinations(range(num_buns), copies_per_key)):\n",
    "        for bunny in bunnies:\n",
    "            keyrings[bunny].append(key)\n",
    "\n",
    "    return keyrings"
   ]
  },
  {
   "cell_type": "code",
   "execution_count": 321,
   "metadata": {},
   "outputs": [
    {
     "data": {
      "text/plain": [
       "[[0, 1, 2, 3, 4, 5],\n",
       " [0, 1, 2, 6, 7, 8],\n",
       " [0, 3, 4, 6, 7, 9],\n",
       " [1, 3, 5, 6, 8, 9],\n",
       " [2, 4, 5, 7, 8, 9]]"
      ]
     },
     "execution_count": 321,
     "metadata": {},
     "output_type": "execute_result"
    }
   ],
   "source": [
    "solution(5, 3)"
   ]
  },
  {
   "cell_type": "code",
   "execution_count": 282,
   "metadata": {},
   "outputs": [
    {
     "data": {
      "text/plain": [
       "[[[0, 1, 2], [0, 2], [1]], [[0, 1, 2], [0], [1, 2]], [[0, 1], [0, 2], [1, 2]]]"
      ]
     },
     "execution_count": 282,
     "metadata": {},
     "output_type": "execute_result"
    }
   ],
   "source": [
    "scenarios([[0, 1], [0], [1]], 2, 2)"
   ]
  },
  {
   "cell_type": "code",
   "execution_count": 266,
   "metadata": {},
   "outputs": [
    {
     "name": "stdout",
     "output_type": "stream",
     "text": [
      "('Giving key:', 0)\n",
      "([[], [], []], [[[0], [0], []], [[0], [], [0]], [[], [0], [0]]])\n",
      "([[0], []], set([0]), set([0]))\n",
      "([[0], []], set([0]), set([0]))\n",
      "([[0], [0]], set([0]), set([0]))\n",
      "('Scenario:', [[0], [0], []], True)\n",
      "([[0], []], set([0]), set([0]))\n",
      "([[0], []], set([0]), set([0]))\n",
      "([[0], [0]], set([0]), set([0]))\n",
      "('Giving key:', 1)\n",
      "([[0], [0], []], [[[0, 1], [0, 1], []], [[0, 1], [0], [1]], [[0], [0, 1], [1]]])\n",
      "([[0, 1], []], set([0, 1]), set([0, 1]))\n",
      "([[0, 1], []], set([0, 1]), set([0, 1]))\n",
      "([[0, 1], [0, 1]], set([0, 1]), set([0, 1]))\n",
      "('Scenario:', [[0, 1], [0, 1], []], True)\n",
      "([[0, 1], []], set([0, 1]), set([0, 1]))\n",
      "([[0, 1], []], set([0, 1]), set([0, 1]))\n",
      "([[0, 1], [0, 1]], set([0, 1]), set([0, 1]))\n",
      "('Giving key:', 2)\n",
      "([[0, 1], [0, 1], []], [[[0, 1, 2], [0, 1, 2], []], [[0, 1, 2], [0, 1], [2]], [[0, 1], [0, 1, 2], [2]]])\n",
      "([[0, 1, 2], []], set([0, 1, 2]), set([0, 1, 2]))\n",
      "([[0, 1, 2], []], set([0, 1, 2]), set([0, 1, 2]))\n",
      "([[0, 1, 2], [0, 1, 2]], set([0, 1, 2]), set([0, 1, 2]))\n",
      "('Scenario:', [[0, 1, 2], [0, 1, 2], []], True)\n",
      "([[0, 1, 2], []], set([0, 1, 2]), set([0, 1, 2]))\n",
      "([[0, 1, 2], []], set([0, 1, 2]), set([0, 1, 2]))\n",
      "([[0, 1, 2], [0, 1, 2]], set([0, 1, 2]), set([0, 1, 2]))\n"
     ]
    },
    {
     "data": {
      "text/plain": [
       "[[0, 1, 2], [0, 1, 2], []]"
      ]
     },
     "execution_count": 266,
     "metadata": {},
     "output_type": "execute_result"
    }
   ],
   "source": []
  },
  {
   "cell_type": "code",
   "execution_count": null,
   "metadata": {},
   "outputs": [],
   "source": [
    "# def take_back(num_buns, num_required):\n",
    "#     keys = range(n_keys(num_buns, num_required))\n",
    "    \n",
    "#     # let's start by giving all the bunnies all the keys\n",
    "#     bunnies = [range(len(keys)) for _ in range(num_buns)]\n",
    "#     print(bunnies)\n",
    "#     for key in keys:\n",
    "#         key_count = 0\n",
    "#         print(\"- Checking key\", key)\n",
    "#         for i in range(len(bunnies)):\n",
    "#             print(\"\\t-For bunny\" + str(i))\n",
    "#             if key in bunnies[i]:\n",
    "#                 key_count += 1\n",
    "#                 print(\" \".join(map(str, [\"\\t-Remove?\", key_count, \">=\", num_required, key_count >= num_required])))\n",
    "#                 if key_count >= num_required:\n",
    "#                     bunnies[i].remove(key)\n",
    "#                     print(\"\\t\" + str(bunnies))\n",
    "#     return bunnies"
   ]
  },
  {
   "cell_type": "code",
   "execution_count": 21,
   "metadata": {},
   "outputs": [],
   "source": [
    "def group_indispensable(group):\n",
    "    for i in range(len(group)):\n",
    "        bunny, others = pop_carry(group, i)\n",
    "        if not is_indispensable(bunny, others, num_required):\n",
    "            return False\n",
    "    without_me = union(group)\n",
    "    with_me = union(group + bunny)\n",
    "    # if the number of unique keys is higher with me (bunny)\n",
    "    # than without me, then I am indispensable\n",
    "    return len(with_me) > len(without_me)\n",
    "    \n",
    "    \n",
    "def is_indispensable(bunny, others, num_required, num_keys):\n",
    "    for group in combinations(others, num_required - 1):\n",
    "        without_me = union(group)\n",
    "        with_me = union(list(group) + [bunny])\n",
    "        # if the number of unique keys is higher with me (bunny)\n",
    "        # than without me, then I am indispensable\n",
    "        if union(list(others) + [bunny]) < num_keys:\n",
    "            continue\n",
    "        if len(with_me) > len(without_me):\n",
    "            return False\n",
    "    return True\n",
    "\n",
    "                      \n",
    "def all_indispensable(bunnies, num_required, num_keys):\n",
    "    for i in range(len(bunnies)):\n",
    "        bunny, others = pop_carry(bunnies, i)\n",
    "        if not is_indispensable(bunny, others, num_required, num_keys):\n",
    "            return False\n",
    "    return True\n",
    "    "
   ]
  },
  {
   "cell_type": "code",
   "execution_count": 22,
   "metadata": {},
   "outputs": [],
   "source": [
    "# def distribute(num_buns, num_required):\n",
    "#     num_keys = n_keys(num_buns, num_required)\n",
    "#     keys = range(num_keys)\n",
    "#     for keys_per_bunny in range(num_keys):\n",
    "#         combos = combinations(keys, keys_per_bunny)\n",
    "#         for distribution in combinations(combos, num_buns):\n",
    "#             if all_indispensable(distribution, num_required, num_keys):\n",
    "#                 return distribution"
   ]
  },
  {
   "cell_type": "code",
   "execution_count": 23,
   "metadata": {},
   "outputs": [
    {
     "ename": "TypeError",
     "evalue": "'int' object is not iterable",
     "output_type": "error",
     "traceback": [
      "\u001b[0;31m---------------------------------------------------------------------------\u001b[0m",
      "\u001b[0;31mTypeError\u001b[0m                                 Traceback (most recent call last)",
      "\u001b[0;32m<ipython-input-23-7bd7f078d11b>\u001b[0m in \u001b[0;36m<module>\u001b[0;34m()\u001b[0m\n\u001b[0;32m----> 1\u001b[0;31m \u001b[0mdistribute\u001b[0m\u001b[0;34m(\u001b[0m\u001b[0;36m5\u001b[0m\u001b[0;34m,\u001b[0m \u001b[0;36m3\u001b[0m\u001b[0;34m)\u001b[0m\u001b[0;34m\u001b[0m\u001b[0m\n\u001b[0m",
      "\u001b[0;32m<ipython-input-21-53d8e348787d>\u001b[0m in \u001b[0;36mdistribute\u001b[0;34m(num_buns, num_required)\u001b[0m\n\u001b[1;32m     15\u001b[0m         \u001b[0;32mfor\u001b[0m \u001b[0mi\u001b[0m\u001b[0;34m,\u001b[0m \u001b[0mbunny\u001b[0m \u001b[0;32min\u001b[0m \u001b[0menumerate\u001b[0m\u001b[0;34m(\u001b[0m\u001b[0mbunnies\u001b[0m\u001b[0;34m)\u001b[0m\u001b[0;34m:\u001b[0m\u001b[0;34m\u001b[0m\u001b[0m\n\u001b[1;32m     16\u001b[0m             \u001b[0mtentative\u001b[0m \u001b[0;34m=\u001b[0m \u001b[0mtry_give\u001b[0m\u001b[0;34m(\u001b[0m\u001b[0mbunnies\u001b[0m\u001b[0;34m,\u001b[0m \u001b[0mi\u001b[0m\u001b[0;34m,\u001b[0m \u001b[0mkey\u001b[0m\u001b[0;34m)\u001b[0m\u001b[0;34m\u001b[0m\u001b[0m\n\u001b[0;32m---> 17\u001b[0;31m             \u001b[0;32mif\u001b[0m \u001b[0mis_valid\u001b[0m\u001b[0;34m(\u001b[0m\u001b[0mtentative\u001b[0m\u001b[0;34m,\u001b[0m \u001b[0mnum_required\u001b[0m\u001b[0;34m,\u001b[0m \u001b[0mkeys\u001b[0m\u001b[0;34m)\u001b[0m\u001b[0;34m:\u001b[0m\u001b[0;34m\u001b[0m\u001b[0m\n\u001b[0m\u001b[1;32m     18\u001b[0m                 \u001b[0mbunnies\u001b[0m\u001b[0;34m[\u001b[0m\u001b[0mi\u001b[0m\u001b[0;34m]\u001b[0m\u001b[0;34m.\u001b[0m\u001b[0mappend\u001b[0m\u001b[0;34m(\u001b[0m\u001b[0mkey\u001b[0m\u001b[0;34m)\u001b[0m\u001b[0;34m\u001b[0m\u001b[0m\n\u001b[1;32m     19\u001b[0m     \u001b[0;32mreturn\u001b[0m \u001b[0mbunnies\u001b[0m\u001b[0;34m\u001b[0m\u001b[0m\n",
      "\u001b[0;32m<ipython-input-21-53d8e348787d>\u001b[0m in \u001b[0;36mis_valid\u001b[0;34m(bunnies, num_required, keys)\u001b[0m\n\u001b[1;32m     32\u001b[0m             \u001b[0mwithout_me\u001b[0m \u001b[0;34m=\u001b[0m \u001b[0munion\u001b[0m\u001b[0;34m(\u001b[0m\u001b[0mgroup\u001b[0m\u001b[0;34m)\u001b[0m\u001b[0;34m\u001b[0m\u001b[0m\n\u001b[1;32m     33\u001b[0m             \u001b[0mwith_me\u001b[0m \u001b[0;34m=\u001b[0m \u001b[0munion\u001b[0m\u001b[0;34m(\u001b[0m\u001b[0mlist\u001b[0m\u001b[0;34m(\u001b[0m\u001b[0mgroup\u001b[0m\u001b[0;34m)\u001b[0m \u001b[0;34m+\u001b[0m \u001b[0;34m[\u001b[0m\u001b[0mbunny\u001b[0m\u001b[0;34m]\u001b[0m\u001b[0;34m)\u001b[0m\u001b[0;34m\u001b[0m\u001b[0m\n\u001b[0;32m---> 34\u001b[0;31m             \u001b[0;32mif\u001b[0m \u001b[0mcan_open\u001b[0m\u001b[0;34m(\u001b[0m\u001b[0mkeys\u001b[0m\u001b[0;34m,\u001b[0m \u001b[0mwithout_me\u001b[0m\u001b[0;34m)\u001b[0m\u001b[0;34m:\u001b[0m\u001b[0;34m\u001b[0m\u001b[0m\n\u001b[0m\u001b[1;32m     35\u001b[0m                 \u001b[0;32mreturn\u001b[0m \u001b[0mFalse\u001b[0m\u001b[0;34m\u001b[0m\u001b[0m\n\u001b[1;32m     36\u001b[0m             \u001b[0;32mif\u001b[0m \u001b[0;32mnot\u001b[0m \u001b[0mcan_open\u001b[0m\u001b[0;34m(\u001b[0m\u001b[0mkeys\u001b[0m\u001b[0;34m,\u001b[0m \u001b[0mwith_me\u001b[0m\u001b[0;34m)\u001b[0m\u001b[0;34m:\u001b[0m\u001b[0;34m\u001b[0m\u001b[0m\n",
      "\u001b[0;32m<ipython-input-21-53d8e348787d>\u001b[0m in \u001b[0;36mcan_open\u001b[0;34m(required_keys, bunnies)\u001b[0m\n\u001b[1;32m     40\u001b[0m \u001b[0;34m\u001b[0m\u001b[0m\n\u001b[1;32m     41\u001b[0m \u001b[0;32mdef\u001b[0m \u001b[0mcan_open\u001b[0m\u001b[0;34m(\u001b[0m\u001b[0mrequired_keys\u001b[0m\u001b[0;34m,\u001b[0m \u001b[0mbunnies\u001b[0m\u001b[0;34m)\u001b[0m\u001b[0;34m:\u001b[0m\u001b[0;34m\u001b[0m\u001b[0m\n\u001b[0;32m---> 42\u001b[0;31m     \u001b[0mavailable_keys\u001b[0m \u001b[0;34m=\u001b[0m \u001b[0munion\u001b[0m\u001b[0;34m(\u001b[0m\u001b[0mbunnies\u001b[0m\u001b[0;34m)\u001b[0m\u001b[0;34m\u001b[0m\u001b[0m\n\u001b[0m\u001b[1;32m     43\u001b[0m     \u001b[0;32mreturn\u001b[0m \u001b[0mset\u001b[0m\u001b[0;34m(\u001b[0m\u001b[0mrequired_keys\u001b[0m\u001b[0;34m)\u001b[0m \u001b[0;34m!=\u001b[0m \u001b[0mavailable_keys\u001b[0m\u001b[0;34m\u001b[0m\u001b[0m\n\u001b[1;32m     44\u001b[0m \u001b[0;34m\u001b[0m\u001b[0m\n",
      "\u001b[0;32m<ipython-input-21-53d8e348787d>\u001b[0m in \u001b[0;36munion\u001b[0;34m(lists)\u001b[0m\n\u001b[1;32m     87\u001b[0m     \u001b[0mun\u001b[0m \u001b[0;34m=\u001b[0m \u001b[0;34m[\u001b[0m\u001b[0;34m]\u001b[0m\u001b[0;34m\u001b[0m\u001b[0m\n\u001b[1;32m     88\u001b[0m     \u001b[0;32mfor\u001b[0m \u001b[0ml\u001b[0m \u001b[0;32min\u001b[0m \u001b[0mlists\u001b[0m\u001b[0;34m:\u001b[0m\u001b[0;34m\u001b[0m\u001b[0m\n\u001b[0;32m---> 89\u001b[0;31m         \u001b[0mun\u001b[0m\u001b[0;34m.\u001b[0m\u001b[0mextend\u001b[0m\u001b[0;34m(\u001b[0m\u001b[0ml\u001b[0m\u001b[0;34m)\u001b[0m\u001b[0;34m\u001b[0m\u001b[0m\n\u001b[0m\u001b[1;32m     90\u001b[0m     \u001b[0;32mreturn\u001b[0m \u001b[0mset\u001b[0m\u001b[0;34m(\u001b[0m\u001b[0mun\u001b[0m\u001b[0;34m)\u001b[0m\u001b[0;34m\u001b[0m\u001b[0m\n",
      "\u001b[0;31mTypeError\u001b[0m: 'int' object is not iterable"
     ]
    }
   ],
   "source": [
    "distribute(5, 3)"
   ]
  },
  {
   "cell_type": "code",
   "execution_count": 12,
   "metadata": {},
   "outputs": [
    {
     "name": "stdout",
     "output_type": "stream",
     "text": [
      "[(0, 1), (1, 0)]\n"
     ]
    }
   ],
   "source": [
    "perms = list(permutations(range(2)))\n",
    "print(perms)\n",
    "# for p in perms:\n",
    "#     print(list(combinations(p, 3)))"
   ]
  },
  {
   "cell_type": "code",
   "execution_count": null,
   "metadata": {},
   "outputs": [],
   "source": [
    "num_buns = 5\n",
    "num_required = 3\n",
    "\n",
    "keys = range(n_keys(num_buns, num_required))\n",
    "\n",
    "for i in range(len(keys)):\n",
    "    # I give i keys to all the bunnies\n",
    "    bunnies = [range(i) for ]\n",
    "    for combos in combinations(keys, i):\n",
    "        print(combos)\n",
    "        print(\"---\")"
   ]
  },
  {
   "cell_type": "code",
   "execution_count": 209,
   "metadata": {},
   "outputs": [
    {
     "ename": "TypeError",
     "evalue": "is_indispensable() takes exactly 4 arguments (3 given)",
     "output_type": "error",
     "traceback": [
      "\u001b[0;31m---------------------------------------------------------------------------\u001b[0m",
      "\u001b[0;31mTypeError\u001b[0m                                 Traceback (most recent call last)",
      "\u001b[0;32m<ipython-input-209-4d66837456a5>\u001b[0m in \u001b[0;36m<module>\u001b[0;34m()\u001b[0m\n\u001b[0;32m----> 1\u001b[0;31m \u001b[0mis_indispensable\u001b[0m\u001b[0;34m(\u001b[0m\u001b[0;34m[\u001b[0m\u001b[0;36m0\u001b[0m\u001b[0;34m]\u001b[0m\u001b[0;34m,\u001b[0m \u001b[0;34m[\u001b[0m\u001b[0;34m[\u001b[0m\u001b[0;34m]\u001b[0m\u001b[0;34m,\u001b[0m \u001b[0;34m[\u001b[0m\u001b[0;34m]\u001b[0m\u001b[0;34m,\u001b[0m \u001b[0;34m[\u001b[0m\u001b[0;34m]\u001b[0m\u001b[0;34m]\u001b[0m\u001b[0;34m,\u001b[0m \u001b[0;36m2\u001b[0m\u001b[0;34m)\u001b[0m\u001b[0;34m\u001b[0m\u001b[0m\n\u001b[0m",
      "\u001b[0;31mTypeError\u001b[0m: is_indispensable() takes exactly 4 arguments (3 given)"
     ]
    }
   ],
   "source": [
    "is_indispensable([0], [[], [], []], 2)"
   ]
  },
  {
   "cell_type": "code",
   "execution_count": 210,
   "metadata": {},
   "outputs": [
    {
     "name": "stdout",
     "output_type": "stream",
     "text": [
      "([0], [[], [], [], []])\n",
      "([0], [[], [], [], []])\n",
      "([0], [[], [], [], []])\n",
      "([0], [[], [], [], []])\n",
      "([0], [[], [], [], []])\n",
      "([1], [[], [], [], []])\n",
      "([1], [[], [], [], []])\n",
      "([1], [[], [], [], []])\n",
      "([1], [[], [], [], []])\n",
      "([1], [[], [], [], []])\n",
      "([2], [[], [], [], []])\n",
      "([2], [[], [], [], []])\n",
      "([2], [[], [], [], []])\n",
      "([2], [[], [], [], []])\n",
      "([2], [[], [], [], []])\n",
      "([3], [[], [], [], []])\n",
      "([3], [[], [], [], []])\n",
      "([3], [[], [], [], []])\n",
      "([3], [[], [], [], []])\n",
      "([3], [[], [], [], []])\n",
      "([4], [[], [], [], []])\n",
      "([4], [[], [], [], []])\n",
      "([4], [[], [], [], []])\n",
      "([4], [[], [], [], []])\n",
      "([4], [[], [], [], []])\n",
      "([5], [[], [], [], []])\n",
      "([5], [[], [], [], []])\n",
      "([5], [[], [], [], []])\n",
      "([5], [[], [], [], []])\n",
      "([5], [[], [], [], []])\n",
      "([6], [[], [], [], []])\n",
      "([6], [[], [], [], []])\n",
      "([6], [[], [], [], []])\n",
      "([6], [[], [], [], []])\n",
      "([6], [[], [], [], []])\n",
      "([7], [[], [], [], []])\n",
      "([7], [[], [], [], []])\n",
      "([7], [[], [], [], []])\n",
      "([7], [[], [], [], []])\n",
      "([7], [[], [], [], []])\n",
      "([8], [[], [], [], []])\n",
      "([8], [[], [], [], []])\n",
      "([8], [[], [], [], []])\n",
      "([8], [[], [], [], []])\n",
      "([8], [[], [], [], []])\n",
      "([9], [[], [], [], []])\n",
      "([9], [[], [], [], []])\n",
      "([9], [[], [], [], []])\n",
      "([9], [[], [], [], []])\n",
      "([9], [[], [], [], []])\n"
     ]
    },
    {
     "data": {
      "text/plain": [
       "[[], [], [], [], []]"
      ]
     },
     "execution_count": 210,
     "metadata": {},
     "output_type": "execute_result"
    }
   ],
   "source": [
    "distribute(5, 3)"
   ]
  },
  {
   "cell_type": "code",
   "execution_count": 114,
   "metadata": {},
   "outputs": [
    {
     "data": {
      "text/plain": [
       "[([0, 1, 2, 3, 4, 5, 6, 7, 8, 9],\n",
       "  [0, 1, 2, 3, 4, 5, 6, 7, 8, 9],\n",
       "  [0, 1, 2, 3, 4, 5, 6, 7, 8, 9]),\n",
       " ([0, 1, 2, 3, 4, 5, 6, 7, 8, 9],\n",
       "  [0, 1, 2, 3, 4, 5, 6, 7, 8, 9],\n",
       "  [0, 1, 2, 3, 4, 5, 6, 7, 8, 9]),\n",
       " ([0, 1, 2, 3, 4, 5, 6, 7, 8, 9],\n",
       "  [0, 1, 2, 3, 4, 5, 6, 7, 8, 9],\n",
       "  [0, 1, 2, 3, 4, 5, 6, 7, 8, 9]),\n",
       " ([0, 1, 2, 3, 4, 5, 6, 7, 8, 9],\n",
       "  [0, 1, 2, 3, 4, 5, 6, 7, 8, 9],\n",
       "  [0, 1, 2, 3, 4, 5, 6, 7, 8, 9]),\n",
       " ([0, 1, 2, 3, 4, 5, 6, 7, 8, 9],\n",
       "  [0, 1, 2, 3, 4, 5, 6, 7, 8, 9],\n",
       "  [0, 1, 2, 3, 4, 5, 6, 7, 8, 9]),\n",
       " ([0, 1, 2, 3, 4, 5, 6, 7, 8, 9],\n",
       "  [0, 1, 2, 3, 4, 5, 6, 7, 8, 9],\n",
       "  [0, 1, 2, 3, 4, 5, 6, 7, 8, 9]),\n",
       " ([0, 1, 2, 3, 4, 5, 6, 7, 8, 9],\n",
       "  [0, 1, 2, 3, 4, 5, 6, 7, 8, 9],\n",
       "  [0, 1, 2, 3, 4, 5, 6, 7, 8, 9]),\n",
       " ([0, 1, 2, 3, 4, 5, 6, 7, 8, 9],\n",
       "  [0, 1, 2, 3, 4, 5, 6, 7, 8, 9],\n",
       "  [0, 1, 2, 3, 4, 5, 6, 7, 8, 9]),\n",
       " ([0, 1, 2, 3, 4, 5, 6, 7, 8, 9],\n",
       "  [0, 1, 2, 3, 4, 5, 6, 7, 8, 9],\n",
       "  [0, 1, 2, 3, 4, 5, 6, 7, 8, 9]),\n",
       " ([0, 1, 2, 3, 4, 5, 6, 7, 8, 9],\n",
       "  [0, 1, 2, 3, 4, 5, 6, 7, 8, 9],\n",
       "  [0, 1, 2, 3, 4, 5, 6, 7, 8, 9])]"
      ]
     },
     "execution_count": 114,
     "metadata": {},
     "output_type": "execute_result"
    }
   ],
   "source": [
    "keys = [list(range(n_keys(5, 3))) for _ in range(5)]\n",
    "list(combinations(keys, 3))"
   ]
  },
  {
   "cell_type": "code",
   "execution_count": 86,
   "metadata": {},
   "outputs": [
    {
     "name": "stdout",
     "output_type": "stream",
     "text": [
      "(([0, 1, 2, 3, 4, 5, 6, 7, 8], [0, 1, 2, 3, 4, 5, 6, 7, 8], [0, 1, 2, 3, 4, 5, 6, 7, 8]), set([0, 1, 2, 3, 4, 5, 6, 7, 8]))\n",
      "(([0, 1, 2, 3, 4, 5, 6, 7, 8], [0, 1, 2, 3, 4, 5, 6, 7, 8], [0, 1, 2, 3, 4, 5, 6, 7, 8]), set([0, 1, 2, 3, 4, 5, 6, 7, 8]))\n",
      "(([0, 1, 2, 3, 4, 5, 6, 7, 8], [0, 1, 2, 3, 4, 5, 6, 7, 8], [0, 1, 2, 3, 4, 5, 6, 7, 8]), set([0, 1, 2, 3, 4, 5, 6, 7, 8]))\n",
      "(([0, 1, 2, 3, 4, 5, 6, 7, 8], [0, 1, 2, 3, 4, 5, 6, 7, 8], [0, 1, 2, 3, 4, 5, 6, 7, 8]), set([0, 1, 2, 3, 4, 5, 6, 7, 8]))\n",
      "(([0, 1, 2, 3, 4, 5, 6, 7, 8], [0, 1, 2, 3, 4, 5, 6, 7, 8], [0, 1, 2, 3, 4, 5, 6, 7, 8]), set([0, 1, 2, 3, 4, 5, 6, 7, 8]))\n",
      "(([0, 1, 2, 3, 4, 5, 6, 7, 8], [0, 1, 2, 3, 4, 5, 6, 7, 8], [0, 1, 2, 3, 4, 5, 6, 7, 8]), set([0, 1, 2, 3, 4, 5, 6, 7, 8]))\n",
      "(([0, 1, 2, 3, 4, 5, 6, 7, 8], [0, 1, 2, 3, 4, 5, 6, 7, 8], [0, 1, 2, 3, 4, 5, 6, 7, 8]), set([0, 1, 2, 3, 4, 5, 6, 7, 8]))\n",
      "(([0, 1, 2, 3, 4, 5, 6, 7, 8], [0, 1, 2, 3, 4, 5, 6, 7, 8], [0, 1, 2, 3, 4, 5, 6, 7, 8]), set([0, 1, 2, 3, 4, 5, 6, 7, 8]))\n",
      "(([0, 1, 2, 3, 4, 5, 6, 7, 8], [0, 1, 2, 3, 4, 5, 6, 7, 8], [0, 1, 2, 3, 4, 5, 6, 7, 8]), set([0, 1, 2, 3, 4, 5, 6, 7, 8]))\n",
      "(([0, 1, 2, 3, 4, 5, 6, 7, 8], [0, 1, 2, 3, 4, 5, 6, 7, 8], [0, 1, 2, 3, 4, 5, 6, 7, 8]), set([0, 1, 2, 3, 4, 5, 6, 7, 8]))\n"
     ]
    },
    {
     "data": {
      "text/plain": [
       "[[0, 1, 2, 3, 4, 5, 6, 7, 8],\n",
       " [0, 1, 2, 3, 4, 5, 6, 7, 8],\n",
       " [0, 1, 2, 3, 4, 5, 6, 7, 8],\n",
       " [0, 1, 2, 3, 4, 5, 6, 7, 8],\n",
       " [0, 1, 2, 3, 4, 5, 6, 7, 8]]"
      ]
     },
     "execution_count": 86,
     "metadata": {},
     "output_type": "execute_result"
    }
   ],
   "source": [
    "distribute(5, 3)"
   ]
  },
  {
   "cell_type": "code",
   "execution_count": 84,
   "metadata": {},
   "outputs": [
    {
     "name": "stdout",
     "output_type": "stream",
     "text": [
      "set([0, 1, 2, 3, 4, 5, 6, 7, 8])\n",
      "set([0, 1, 2, 3, 4, 5, 6, 7, 8])\n",
      "set([0, 1, 2, 3, 4, 5, 6, 7, 8])\n",
      "set([0, 1, 2, 3, 4, 5, 6, 7, 8])\n",
      "set([0, 1, 2, 3, 4, 5, 6, 7, 8])\n",
      "set([0, 1, 2, 3, 4, 5, 6, 7, 8])\n",
      "set([0, 1, 2, 3, 4, 5, 6, 7, 8])\n",
      "set([0, 1, 2, 3, 4, 5, 6, 7, 8])\n",
      "set([0, 1, 2, 3, 4, 5, 6, 7, 8])\n",
      "set([0, 1, 2, 3, 4, 5, 6, 7, 8])\n"
     ]
    },
    {
     "data": {
      "text/plain": [
       "True"
      ]
     },
     "execution_count": 84,
     "metadata": {},
     "output_type": "execute_result"
    }
   ],
   "source": [
    "is_indispensable([[0, 1, 2, 3, 4, 5, 6, 7, 8],\n",
    " [0, 1, 2, 3, 4, 5, 6, 7, 8],\n",
    " [0, 1, 2, 3, 4, 5, 6, 7, 8],\n",
    " [0, 1, 2, 3, 4, 5, 6, 7, 8],\n",
    " [0, 1, 2, 3, 4, 5, 6, 7, 8]], 3)"
   ]
  },
  {
   "cell_type": "code",
   "execution_count": 69,
   "metadata": {},
   "outputs": [
    {
     "name": "stdout",
     "output_type": "stream",
     "text": [
      "set([0, 1, 2, 3])\n"
     ]
    },
    {
     "data": {
      "text/plain": [
       "True"
      ]
     },
     "execution_count": 69,
     "metadata": {},
     "output_type": "execute_result"
    }
   ],
   "source": [
    "is_indispensable([[0], [1], [2], [3]], 4)"
   ]
  },
  {
   "cell_type": "code",
   "execution_count": 65,
   "metadata": {},
   "outputs": [
    {
     "name": "stdout",
     "output_type": "stream",
     "text": [
      "set([0, 1, 2, 3, 4, 5, 6, 7, 8, 9])\n",
      "set([0, 1, 2, 3, 4, 5, 6, 7, 8, 9])\n",
      "set([0, 1, 2, 3, 4, 5, 6, 7, 8, 9])\n",
      "set([0, 1, 2, 3, 4, 5, 6, 7, 8, 9])\n",
      "set([0, 1, 2, 3, 4, 5, 6, 7, 8, 9])\n",
      "set([0, 1, 2, 3, 4, 5, 6, 7, 8, 9])\n",
      "set([0, 1, 2, 3, 4, 5, 6, 7, 8, 9])\n",
      "set([0, 1, 2, 3, 4, 5, 6, 7, 8, 9])\n",
      "set([0, 1, 2, 3, 4, 5, 6, 7, 8, 9])\n",
      "set([0, 1, 2, 3, 4, 5, 6, 7, 8, 9])\n"
     ]
    },
    {
     "data": {
      "text/plain": [
       "True"
      ]
     },
     "execution_count": 65,
     "metadata": {},
     "output_type": "execute_result"
    }
   ],
   "source": [
    "is_indispensable([[0, 1, 2, 3, 4, 5], [0, 1, 2, 6, 7, 8], [0, 3, 4, 6, 7, 9], [1, 3, 5, 6, 8, 9], [2, 4, 5, 7, 8, 9]], 3)"
   ]
  },
  {
   "cell_type": "code",
   "execution_count": 51,
   "metadata": {},
   "outputs": [
    {
     "data": {
      "text/plain": [
       "{0, 1, 2, 3, 4, 5, 6, 7, 8}"
      ]
     },
     "execution_count": 51,
     "metadata": {},
     "output_type": "execute_result"
    }
   ],
   "source": [
    "union([[0, 1, 2, 3, 4, 5], [0, 1, 2, 6, 7, 8]])"
   ]
  },
  {
   "cell_type": "code",
   "execution_count": 8,
   "metadata": {},
   "outputs": [],
   "source": [
    "distribute(5, 5)"
   ]
  },
  {
   "cell_type": "code",
   "execution_count": 25,
   "metadata": {},
   "outputs": [],
   "source": [
    "from itertools import combinations, permutations\n",
    "import random"
   ]
  },
  {
   "cell_type": "code",
   "execution_count": 27,
   "metadata": {},
   "outputs": [
    {
     "data": {
      "text/plain": [
       "[(0, 1, 2),\n",
       " (0, 1, 3),\n",
       " (0, 1, 4),\n",
       " (0, 2, 3),\n",
       " (0, 2, 4),\n",
       " (0, 3, 4),\n",
       " (1, 2, 3),\n",
       " (1, 2, 4),\n",
       " (1, 3, 4),\n",
       " (2, 3, 4)]"
      ]
     },
     "execution_count": 27,
     "metadata": {},
     "output_type": "execute_result"
    }
   ],
   "source": [
    "a = [x for x in range(5)]\n",
    "\n",
    "list(combinations(a, 3))"
   ]
  },
  {
   "cell_type": "code",
   "execution_count": 30,
   "metadata": {},
   "outputs": [],
   "source": [
    "def solution(num_buns, num_required):\n",
    "    if num_required == 0:\n",
    "        return []\n",
    "    if num_buns == num_required:\n",
    "        return [[i] for i in range(num_buns)]\n",
    "    return []"
   ]
  },
  {
   "cell_type": "code",
   "execution_count": 31,
   "metadata": {},
   "outputs": [
    {
     "data": {
      "text/plain": [
       "[[0], [1], [2], [3]]"
      ]
     },
     "execution_count": 31,
     "metadata": {},
     "output_type": "execute_result"
    }
   ],
   "source": [
    "solution(4, 4)"
   ]
  },
  {
   "cell_type": "code",
   "execution_count": 88,
   "metadata": {},
   "outputs": [],
   "source": [
    "# Function to calculate lexicographically  \n",
    "# permutation in array \n",
    "def lexicoSmallestPermuatation(arr, n): \n",
    "      \n",
    "    # Calculate frequency of array elements \n",
    "    cnt = [0 for i in range(n + 1)] \n",
    "    for i in range(n): \n",
    "        cnt[arr[i]] += 1\n",
    "  \n",
    "    ele = 1\n",
    "    replacement = 0\n",
    "    vis = [0 for i in range(n + 1)] \n",
    "    for i in range(n): \n",
    "          \n",
    "        # If count of element is 1, no \n",
    "        # need to replace \n",
    "        if (cnt[arr[i]] == 1): \n",
    "            continue\n",
    "  \n",
    "        # Find the element that has not \n",
    "        # occurred in array \n",
    "        while (cnt[ele]): \n",
    "            ele += 1\n",
    "  \n",
    "        # If replacement element is greater \n",
    "        # than current arr[i] then visit \n",
    "        # that element for next iteration \n",
    "        if (ele > arr[i] and vis[arr[i]] == 0): \n",
    "            vis[arr[i]] = 1; \n",
    "  \n",
    "        else: \n",
    "              \n",
    "            # Decrement count and assign  \n",
    "            # the element to array \n",
    "            cnt[arr[i]] -= 1\n",
    "            arr[i] = ele \n",
    "  \n",
    "            # Increment the replacement count \n",
    "            replacement += 1\n",
    "  \n",
    "            # Increment element after assigning \n",
    "            # to the array \n",
    "            ele += 1\n",
    "      \n",
    "    return arr"
   ]
  },
  {
   "cell_type": "code",
   "execution_count": 93,
   "metadata": {},
   "outputs": [
    {
     "data": {
      "text/plain": [
       "[0, 1, 2]"
      ]
     },
     "execution_count": 93,
     "metadata": {},
     "output_type": "execute_result"
    }
   ],
   "source": [
    "lexicoSmallestPermuatation(range(3), 3)"
   ]
  },
  {
   "cell_type": "code",
   "execution_count": null,
   "metadata": {},
   "outputs": [],
   "source": []
  }
 ],
 "metadata": {
  "kernelspec": {
   "display_name": "Python 2",
   "language": "python",
   "name": "python2"
  },
  "language_info": {
   "codemirror_mode": {
    "name": "ipython",
    "version": 2
   },
   "file_extension": ".py",
   "mimetype": "text/x-python",
   "name": "python",
   "nbconvert_exporter": "python",
   "pygments_lexer": "ipython2",
   "version": "2.7.18"
  }
 },
 "nbformat": 4,
 "nbformat_minor": 2
}
