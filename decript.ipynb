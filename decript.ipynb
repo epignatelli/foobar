{
 "cells": [
  {
   "cell_type": "code",
   "execution_count": 7,
   "metadata": {},
   "outputs": [],
   "source": [
    "import math\n",
    "from decimal import Decimal, getcontext"
   ]
  },
  {
   "cell_type": "code",
   "execution_count": 8,
   "metadata": {},
   "outputs": [],
   "source": [
    "def test(str_n):\n",
    "    num = long(str_n)\n",
    "    res = 0\n",
    "    for i in range(1, num + 1):\n",
    "        res += math.floor(i * math.sqrt(2))\n",
    "    return str(int(res))"
   ]
  },
  {
   "cell_type": "code",
   "execution_count": 13,
   "metadata": {},
   "outputs": [],
   "source": [
    "getcontext().prec = 100\n",
    "\n",
    "def beatty_sqrt2(str_n, irrational):\n",
    "    n = long(str_n)\n",
    "    alpha = irrational\n",
    "    beta = - irrational / (1 - irrational)\n",
    "    n_1 = long(math.floor((irrational - 1) * n))\n",
    "    if n_1 != 0:\n",
    "        return str(n * n_1 + n * (n + 1) / 2 - n_1 * (n_1 + 1) / 2 - long(beatty_sqrt2(n_1, irrational)))\n",
    "    else:\n",
    "        return str(n * n_1 + n * (n + 1) / 2 - n_1 * (n_1 + 1) / 2)\n",
    "    \n",
    "def solution(str_n):\n",
    "    str_n = str(str_n)\n",
    "    if len(str_n) == 0:\n",
    "        return 0\n",
    "    return beatty_sqrt2(str_n, Decimal(2).sqrt())"
   ]
  },
  {
   "cell_type": "code",
   "execution_count": 14,
   "metadata": {},
   "outputs": [],
   "source": [
    "str_n = \"1010100\""
   ]
  },
  {
   "cell_type": "code",
   "execution_count": 15,
   "metadata": {},
   "outputs": [
    {
     "data": {
      "text/plain": [
       "'721462679328'"
      ]
     },
     "execution_count": 15,
     "metadata": {},
     "output_type": "execute_result"
    }
   ],
   "source": [
    "solution(str_n)"
   ]
  },
  {
   "cell_type": "code",
   "execution_count": 16,
   "metadata": {},
   "outputs": [
    {
     "data": {
      "text/plain": [
       "'721462679328'"
      ]
     },
     "execution_count": 16,
     "metadata": {},
     "output_type": "execute_result"
    }
   ],
   "source": [
    "test(str_n)"
   ]
  },
  {
   "cell_type": "code",
   "execution_count": 406,
   "metadata": {},
   "outputs": [],
   "source": [
    "def get_series():\n",
    "    series = []\n",
    "    with localcontext() as ctx:\n",
    "        ctx.prec = 100\n",
    "        sqrt2 = Decimal(2).sqrt()\n",
    "        for i in range(1, 10):\n",
    "            t = str(i * sqrt2).replace(\".\", \"\")\n",
    "            series.append(t)\n",
    "    return [\"0\" * 100] + series\n",
    "\n",
    "series = get_series()"
   ]
  },
  {
   "cell_type": "code",
   "execution_count": 372,
   "metadata": {},
   "outputs": [
    {
     "data": {
      "text/plain": [
       "['0000000000000000000000000000000000000000000000000000000000000000000000000000000000000000000000000000',\n",
       " '1414213562373095048801688724209698078569671875376948073176679737990732478462107038850387534327641573',\n",
       " '2828427124746190097603377448419396157139343750753896146353359475981464956924214077700775068655283146',\n",
       " '4242640687119285146405066172629094235709015626130844219530039213972197435386321116551162602982924719',\n",
       " '5656854249492380195206754896838792314278687501507792292706718951962929913848428155401550137310566292',\n",
       " '7071067811865475244008443621048490392848359376884740365883398689953662392310535194251937671638207865',\n",
       " '8485281374238570292810132345258188471418031252261688439060078427944394870772642233102325205965849438',\n",
       " '9899494936611665341611821069467886549987703127638636512236758165935127349234749271952712740293491011',\n",
       " '1131370849898476039041350979367758462855737500301558458541343790392585982769685631080310027462113258',\n",
       " '1272792206135785543921519851788728270712704687839253265859011764191659230615896334965348780894877416']"
      ]
     },
     "execution_count": 372,
     "metadata": {},
     "output_type": "execute_result"
    }
   ],
   "source": [
    "series"
   ]
  },
  {
   "cell_type": "code",
   "execution_count": 223,
   "metadata": {},
   "outputs": [
    {
     "data": {
      "text/plain": [
       "[(0,\n",
       "  '0000000000000000000000000000000000000000000000000000000000000000000000000000000000000000000000000000'),\n",
       " (1,\n",
       "  '1414213562373095048801688724209698078569671875376948073176679737990732478462107038850387534327641573'),\n",
       " (2,\n",
       "  '2828427124746190097603377448419396157139343750753896146353359475981464956924214077700775068655283146'),\n",
       " (3,\n",
       "  '4242640687119285146405066172629094235709015626130844219530039213972197435386321116551162602982924719'),\n",
       " (4,\n",
       "  '5656854249492380195206754896838792314278687501507792292706718951962929913848428155401550137310566292'),\n",
       " (5,\n",
       "  '7071067811865475244008443621048490392848359376884740365883398689953662392310535194251937671638207865'),\n",
       " (6,\n",
       "  '8485281374238570292810132345258188471418031252261688439060078427944394870772642233102325205965849438'),\n",
       " (7,\n",
       "  '9899494936611665341611821069467886549987703127638636512236758165935127349234749271952712740293491011'),\n",
       " (8,\n",
       "  '1131370849898476039041350979367758462855737500301558458541343790392585982769685631080310027462113258'),\n",
       " (9,\n",
       "  '1272792206135785543921519851788728270712704687839253265859011764191659230615896334965348780894877416')]"
      ]
     },
     "execution_count": 223,
     "metadata": {},
     "output_type": "execute_result"
    }
   ],
   "source": [
    "list(enumerate(series))"
   ]
  },
  {
   "cell_type": "code",
   "execution_count": 293,
   "metadata": {},
   "outputs": [],
   "source": [
    "def positional_increment(digit, position):\n",
    "    res = 0\n",
    "    for d in range(digit + 1):\n",
    "        partial = series[d][:position + 1 + int(d > 7)]\n",
    "        res += int(partial)\n",
    "#         print(locals())\n",
    "    return res\n",
    "\n",
    "def solution(str_n):\n",
    "    result = 0\n",
    "    for position, digit in enumerate(str_n):\n",
    "        digit = int(digit)\n",
    "        result += positional_increment(digit, position)\n",
    "        for i in range(position):\n",
    "            result += positional_increment(9, i) * (10 ** (i + 1))\n",
    "    return result\n",
    "\n",
    "def test(str_n):\n",
    "    num = int(str_n)\n",
    "    res = 0\n",
    "    for i in range(1, num + 1):\n",
    "        res += math.floor(i * math.sqrt(2))\n",
    "    return int(res)"
   ]
  },
  {
   "cell_type": "code",
   "execution_count": 369,
   "metadata": {},
   "outputs": [],
   "source": [
    "FLOORSQRT2 = get_series()\n",
    "\n",
    "def sum_floorsqrt2(digit, position, partial=0):\n",
    "#     print(locals())\n",
    "    if position == 0:\n",
    "        for d in range(1, digit + 1):\n",
    "            p = FLOORSQRT2[d][:position + 1 + int(d > 7)]\n",
    "            partial += int(p)\n",
    "            print(\"d:\", d, 'p:', p, \"partial:\", partial, \"position:\", position)\n",
    "    else:\n",
    "        p = sum_floorsqrt2(digit, position - 1, partial)\n",
    "        partial += digit * p\n",
    "        print('p:', p, \"partial:\", partial, \"position:\", position)\n",
    "\n",
    "#         for d in range(1, 10):\n",
    "#             p = sum_floorsqrt2(1, position - 1, partial)\n",
    "#             partial += digit * p\n",
    "#             print(\"d:\", d, 'p:', p, \"partial:\", partial, \"position:\", position)\n",
    "    return partial\n",
    "\n",
    "\n",
    "def solution(str_n):\n",
    "    # init\n",
    "    res = 0\n",
    "    position = len(str_n) - 1\n",
    "    # solve the contribution of each digit\n",
    "    for digit in str_n:\n",
    "        digit = int(digit)\n",
    "        res += sum_floorsqrt2(digit, position)\n",
    "        position -= 1\n",
    "    return res"
   ]
  },
  {
   "cell_type": "code",
   "execution_count": 370,
   "metadata": {},
   "outputs": [
    {
     "name": "stdout",
     "output_type": "stream",
     "text": [
      "('d:', 1, 'p:', '1', 'partial:', 1, 'position:', 0)\n",
      "('d:', 2, 'p:', '2', 'partial:', 3, 'position:', 0)\n",
      "('d:', 3, 'p:', '4', 'partial:', 7, 'position:', 0)\n",
      "('d:', 4, 'p:', '5', 'partial:', 12, 'position:', 0)\n",
      "('d:', 5, 'p:', '7', 'partial:', 19, 'position:', 0)\n",
      "('d:', 6, 'p:', '8', 'partial:', 27, 'position:', 0)\n",
      "('d:', 7, 'p:', '9', 'partial:', 36, 'position:', 0)\n",
      "('p:', 36, 'partial:', 252, 'position:', 1)\n",
      "('d:', 1, 'p:', '1', 'partial:', 1, 'position:', 0)\n",
      "('d:', 2, 'p:', '2', 'partial:', 3, 'position:', 0)\n",
      "('d:', 3, 'p:', '4', 'partial:', 7, 'position:', 0)\n",
      "('d:', 4, 'p:', '5', 'partial:', 12, 'position:', 0)\n",
      "('d:', 5, 'p:', '7', 'partial:', 19, 'position:', 0)\n",
      "('d:', 6, 'p:', '8', 'partial:', 27, 'position:', 0)\n",
      "('d:', 7, 'p:', '9', 'partial:', 36, 'position:', 0)\n"
     ]
    },
    {
     "data": {
      "text/plain": [
       "288"
      ]
     },
     "execution_count": 370,
     "metadata": {},
     "output_type": "execute_result"
    }
   ],
   "source": [
    "solution(\"77\")"
   ]
  },
  {
   "cell_type": "code",
   "execution_count": 326,
   "metadata": {},
   "outputs": [],
   "source": [
    "def solution(str_n):\n",
    "    str_n = str(str_n)\n",
    "    res = 0\n",
    "    for position, digit in enumerate(str_n):\n",
    "        digit = int(digit)\n",
    "        for j in range(1, digit + 1):\n",
    "            value = j * 10 ** position\n",
    "            floor_sqrt2 = series[j][:position + 1 + int(j > 7)]\n",
    "            res += int(float(floor_sqrt2)) * (10 ** position)\n",
    "        if position > 0:\n",
    "            res += positional_increment(digit, position - 1) * digit\n",
    "            print(locals())\n",
    "    return res"
   ]
  },
  {
   "cell_type": "code",
   "execution_count": 297,
   "metadata": {},
   "outputs": [
    {
     "data": {
      "text/plain": [
       "9.0"
      ]
     },
     "execution_count": 297,
     "metadata": {},
     "output_type": "execute_result"
    }
   ],
   "source": [
    "math.floor(7 * math.sqrt(2))"
   ]
  },
  {
   "cell_type": "code",
   "execution_count": 307,
   "metadata": {},
   "outputs": [
    {
     "data": {
      "text/plain": [
       "335"
      ]
     },
     "execution_count": 307,
     "metadata": {},
     "output_type": "execute_result"
    }
   ],
   "source": [
    "77 * positional_increment(9, 0) - 4208"
   ]
  },
  {
   "cell_type": "code",
   "execution_count": 327,
   "metadata": {},
   "outputs": [
    {
     "name": "stdout",
     "output_type": "stream",
     "text": [
      "{'digit': 0, 'str_n': '20', 'floor_sqrt2': '2', 'res': 3, 'j': 2, 'value': 2, 'position': 1}\n"
     ]
    },
    {
     "data": {
      "text/plain": [
       "3"
      ]
     },
     "execution_count": 327,
     "metadata": {},
     "output_type": "execute_result"
    }
   ],
   "source": [
    "solution(\"20\")"
   ]
  },
  {
   "cell_type": "code",
   "execution_count": 333,
   "metadata": {},
   "outputs": [
    {
     "data": {
      "text/plain": [
       "287"
      ]
     },
     "execution_count": 333,
     "metadata": {},
     "output_type": "execute_result"
    }
   ],
   "source": [
    "test(\"20\")"
   ]
  },
  {
   "cell_type": "code",
   "execution_count": 282,
   "metadata": {},
   "outputs": [
    {
     "data": {
      "text/plain": [
       "252"
      ]
     },
     "execution_count": 282,
     "metadata": {},
     "output_type": "execute_result"
    }
   ],
   "source": [
    "positional_increment(7, 0) * 7"
   ]
  },
  {
   "cell_type": "code",
   "execution_count": 236,
   "metadata": {},
   "outputs": [
    {
     "name": "stdout",
     "output_type": "stream",
     "text": [
      "{'res': 0, 'digit': 7, 'partial': '0', 'd': 0, 'position': 0}\n",
      "{'res': 1, 'digit': 7, 'partial': '1', 'd': 1, 'position': 0}\n",
      "{'res': 3, 'digit': 7, 'partial': '2', 'd': 2, 'position': 0}\n",
      "{'res': 7, 'digit': 7, 'partial': '4', 'd': 3, 'position': 0}\n",
      "{'res': 12, 'digit': 7, 'partial': '5', 'd': 4, 'position': 0}\n",
      "{'res': 19, 'digit': 7, 'partial': '7', 'd': 5, 'position': 0}\n",
      "{'res': 27, 'digit': 7, 'partial': '8', 'd': 6, 'position': 0}\n",
      "{'res': 36, 'digit': 7, 'partial': '9', 'd': 7, 'position': 0}\n"
     ]
    },
    {
     "data": {
      "text/plain": [
       "36"
      ]
     },
     "execution_count": 236,
     "metadata": {},
     "output_type": "execute_result"
    }
   ],
   "source": [
    "positional_increment(7, 0)"
   ]
  },
  {
   "cell_type": "code",
   "execution_count": 161,
   "metadata": {},
   "outputs": [
    {
     "name": "stdout",
     "output_type": "stream",
     "text": [
      "{'res': 392, 'digit': 7, 'd': 7, 'position': 1}\n"
     ]
    },
    {
     "data": {
      "text/plain": [
       "392"
      ]
     },
     "execution_count": 161,
     "metadata": {},
     "output_type": "execute_result"
    }
   ],
   "source": [
    "positional_increment(7, 1)"
   ]
  },
  {
   "cell_type": "code",
   "execution_count": 162,
   "metadata": {},
   "outputs": [
    {
     "name": "stdout",
     "output_type": "stream",
     "text": [
      "{'res': 59, 'digit': 9, 'd': 9, 'position': 0}\n"
     ]
    },
    {
     "data": {
      "text/plain": [
       "413"
      ]
     },
     "execution_count": 162,
     "metadata": {},
     "output_type": "execute_result"
    }
   ],
   "source": [
    "positional_increment(9, 0) * 7"
   ]
  },
  {
   "cell_type": "code",
   "execution_count": 139,
   "metadata": {},
   "outputs": [
    {
     "name": "stdout",
     "output_type": "stream",
     "text": [
      "(0, 0.0, 0.0)\n",
      "(1, 1.0, 1.4142135623730951)\n",
      "(2, 2.0, 2.8284271247461903)\n",
      "(3, 4.0, 4.242640687119286)\n",
      "(4, 5.0, 5.656854249492381)\n",
      "(5, 7.0, 7.0710678118654755)\n",
      "(6, 8.0, 8.485281374238571)\n",
      "(7, 9.0, 9.899494936611665)\n",
      "(8, 11.0, 11.313708498984761)\n",
      "(9, 12.0, 12.727922061357857)\n"
     ]
    }
   ],
   "source": [
    "for i in range(10):\n",
    "    v = i * math.sqrt(2)\n",
    "    print(i, math.floor(v), v)"
   ]
  },
  {
   "cell_type": "code",
   "execution_count": 199,
   "metadata": {},
   "outputs": [
    {
     "data": {
      "text/plain": [
       "36"
      ]
     },
     "execution_count": 199,
     "metadata": {},
     "output_type": "execute_result"
    }
   ],
   "source": [
    "(9 + 8 + 7 + 5 + 4 + 2 + 1)"
   ]
  },
  {
   "cell_type": "code",
   "execution_count": 148,
   "metadata": {},
   "outputs": [
    {
     "name": "stdout",
     "output_type": "stream",
     "text": [
      "(0, 0.0, 0.0)\n",
      "(10, 14.0, 14.142135623730951)\n",
      "(20, 28.0, 28.284271247461902)\n",
      "(30, 42.0, 42.42640687119285)\n",
      "(40, 56.0, 56.568542494923804)\n",
      "(50, 70.0, 70.71067811865476)\n",
      "(60, 84.0, 84.8528137423857)\n",
      "(70, 98.0, 98.99494936611666)\n",
      "(80, 113.0, 113.13708498984761)\n",
      "(90, 127.0, 127.27922061357856)\n"
     ]
    }
   ],
   "source": [
    "for i in range(0, 100, 10):\n",
    "    v = i * math.sqrt(2)\n",
    "    print(i, math.floor(v), v)"
   ]
  },
  {
   "cell_type": "code",
   "execution_count": 152,
   "metadata": {},
   "outputs": [
    {
     "data": {
      "text/plain": [
       "392"
      ]
     },
     "execution_count": 152,
     "metadata": {},
     "output_type": "execute_result"
    }
   ],
   "source": [
    "98 + 84 + 70 + 56 + 42 + 28 + 14"
   ]
  },
  {
   "cell_type": "code",
   "execution_count": 194,
   "metadata": {},
   "outputs": [
    {
     "name": "stdout",
     "output_type": "stream",
     "text": [
      "(0, 0.0, 0.0)\n",
      "(100, 141.0, 141.4213562373095)\n",
      "(200, 282.0, 282.842712474619)\n",
      "(300, 424.0, 424.26406871192853)\n",
      "(400, 565.0, 565.685424949238)\n",
      "(500, 707.0, 707.1067811865476)\n",
      "(600, 848.0, 848.5281374238571)\n",
      "(700, 989.0, 989.9494936611666)\n",
      "(800, 1131.0, 1131.370849898476)\n",
      "(900, 1272.0, 1272.7922061357856)\n"
     ]
    }
   ],
   "source": [
    "for i in range(0, 1000, 100):\n",
    "    v = i * math.sqrt(2)\n",
    "    print(i, math.floor(v), v)"
   ]
  },
  {
   "cell_type": "code",
   "execution_count": 196,
   "metadata": {},
   "outputs": [
    {
     "data": {
      "text/plain": [
       "3956"
      ]
     },
     "execution_count": 196,
     "metadata": {},
     "output_type": "execute_result"
    }
   ],
   "source": [
    "989 + 848 + 707 + 565 + 424 + 282 + 141"
   ]
  },
  {
   "cell_type": "code",
   "execution_count": 198,
   "metadata": {},
   "outputs": [
    {
     "data": {
      "text/plain": [
       "3956"
      ]
     },
     "execution_count": 198,
     "metadata": {},
     "output_type": "execute_result"
    }
   ],
   "source": [
    "positional_increment(7, 2)"
   ]
  },
  {
   "cell_type": "code",
   "execution_count": 18,
   "metadata": {},
   "outputs": [
    {
     "name": "stdout",
     "output_type": "stream",
     "text": [
      "{'success' : 'great', 'colleague' : 'esteemed', 'efforts' : 'incredible', 'achievement' : 'unlocked', 'rabbits' : 'safe', 'foo' : 'win!'}\n"
     ]
    }
   ],
   "source": [
    "import base64\n",
    "\n",
    "MESSAGE = 'HkMGWxMKAh0SU0VWTE4CFhBPBE5LTkYXCgAADAQDAEtXSV1ORhEWGAkMCAERCVxJQAsHEgoeGBpC RE8OVwAJDRMRAQUOBQBDWQ5XCAQGCBETCQEMCxBSDkpJQBsPGAoPBwwBQ1kOVxsGDAMdER9LSV9E Ul0RDwJJTVRCCgMGQkRPDlceDgBAUxg='\n",
    "\n",
    "KEY = 'edu.pignatelli'\n",
    "\n",
    "result = []\n",
    "for i, c in enumerate(base64.b64decode(MESSAGE)):\n",
    "    result.append(chr(ord(c) ^ ord(KEY[i % len(KEY)])))\n",
    "\n",
    "print ''.join(result)"
   ]
  },
  {
   "cell_type": "code",
   "execution_count": null,
   "metadata": {},
   "outputs": [],
   "source": []
  }
 ],
 "metadata": {
  "kernelspec": {
   "display_name": "Python 2",
   "language": "python",
   "name": "python2"
  },
  "language_info": {
   "codemirror_mode": {
    "name": "ipython",
    "version": 2
   },
   "file_extension": ".py",
   "mimetype": "text/x-python",
   "name": "python",
   "nbconvert_exporter": "python",
   "pygments_lexer": "ipython2",
   "version": "2.7.18"
  }
 },
 "nbformat": 4,
 "nbformat_minor": 2
}
