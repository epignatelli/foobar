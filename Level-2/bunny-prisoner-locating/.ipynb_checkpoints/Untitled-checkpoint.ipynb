{
 "cells": [
  {
   "cell_type": "code",
   "execution_count": 20,
   "metadata": {},
   "outputs": [
    {
     "name": "stdout",
     "output_type": "stream",
     "text": [
      "x, y 3 2\n",
      "depth 4\n",
      "k 9\n",
      "---\n",
      "x, y 5 10\n",
      "depth 14\n",
      "k 96\n",
      "---\n",
      "x, y 5 1\n",
      "depth 5\n",
      "k 15\n",
      "---\n",
      "x, y 5 2\n",
      "depth 6\n",
      "k 20\n",
      "---\n",
      "x, y 2 4\n",
      "depth 5\n",
      "k 12\n",
      "---\n"
     ]
    },
    {
     "data": {
      "text/plain": [
       "'12'"
      ]
     },
     "execution_count": 20,
     "metadata": {},
     "output_type": "execute_result"
    }
   ],
   "source": [
    "def sum_series(n):\n",
    "    last = 0\n",
    "    for i in range (1, int(n)+1):\n",
    "        last = last + i\n",
    "    return last\n",
    "    \n",
    "\n",
    "def solution(x, y):\n",
    "    d = x + y - 1\n",
    "    start = sum_series(d - 1)\n",
    "    k = start + x\n",
    "    print(\"x, y\", x, y)\n",
    "    print(\"depth\", d)\n",
    "    print(\"k\", k)\n",
    "    print(\"---\")\n",
    "    return str(k)\n",
    "\n",
    "\n",
    "solution(3, 2)\n",
    "solution(5, 10)\n",
    "solution(5, 1)\n",
    "solution(5, 2)\n",
    "solution(2, 4)"
   ]
  },
  {
   "cell_type": "code",
   "execution_count": null,
   "metadata": {},
   "outputs": [],
   "source": []
  }
 ],
 "metadata": {
  "kernelspec": {
   "display_name": "Python 3",
   "language": "python",
   "name": "python3"
  },
  "language_info": {
   "codemirror_mode": {
    "name": "ipython",
    "version": 3
   },
   "file_extension": ".py",
   "mimetype": "text/x-python",
   "name": "python",
   "nbconvert_exporter": "python",
   "pygments_lexer": "ipython3",
   "version": "3.8.1"
  }
 },
 "nbformat": 4,
 "nbformat_minor": 4
}
