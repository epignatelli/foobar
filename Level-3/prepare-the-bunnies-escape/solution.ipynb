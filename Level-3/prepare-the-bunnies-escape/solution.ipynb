{
 "cells": [
  {
   "cell_type": "code",
   "execution_count": 144,
   "metadata": {},
   "outputs": [],
   "source": [
    "tests = [\n",
    "    [[0, 1, 1, 0], [0, 0, 0, 1], [1, 1, 0, 0], [1, 1, 1, 0]],\n",
    "    [[0, 0, 0, 0, 0, 0], [1, 1, 1, 1, 1, 0], [0, 0, 0, 0, 0, 0], [0, 1, 1, 1, 1, 1], [0, 1, 1, 1, 1, 1], [0, 0, 0, 0, 0, 0]]\n",
    "]"
   ]
  },
  {
   "cell_type": "code",
   "execution_count": 162,
   "metadata": {},
   "outputs": [],
   "source": [
    "def children(position, map_):\n",
    "    # unravel position\n",
    "    x, y = position\n",
    "    # actions\n",
    "    down = (x + 1, y)\n",
    "    up = (x - 1, y)\n",
    "    left = (x, y - 1)\n",
    "    right = (x, y + 1)\n",
    "    actions = [down, up, left, right]\n",
    "    # filter invalid actions\n",
    "    return [action for action in actions if is_valid(action, map_)]\n",
    "\n",
    "def is_valid(action, map_):\n",
    "    # unravel state\n",
    "    x, y = action\n",
    "    # x out of bounds\n",
    "    if x < 0 or x > len(map_) - 1:\n",
    "        return False\n",
    "    # y out of bounds\n",
    "    if y < 0 or y > len(map_[0]) - 1:\n",
    "        return False\n",
    "    # wall\n",
    "    if map_[x][y] == 1:\n",
    "        return False\n",
    "    return True\n",
    "\n",
    "def exit(maze):\n",
    "    queue = [(0, 0)]\n",
    "    graph = {(0, 0): 0}\n",
    "    \n",
    "    while len(queue) > 0:\n",
    "        # dequeue\n",
    "        parent = queue.pop(0)\n",
    "        for branch in children(parent, maze):\n",
    "            # check if visited\n",
    "            if branch not in graph:\n",
    "                queue.append(branch)\n",
    "                graph[branch] = graph[parent] + 1\n",
    "                \n",
    "            if tuple(branch) == (len(maze) - 1, len(maze) - 1):\n",
    "                return graph[branch] + 1\n",
    "    return 0\n",
    "\n",
    "def get_walls(map_):\n",
    "    walls = []\n",
    "    for x in range(len(map_)):\n",
    "        for y in range(len(map_[x])):\n",
    "            if map_[x][y]:\n",
    "                walls.append((x, y))\n",
    "    return walls\n",
    "\n",
    "def remove_wall(map_, wall_positions):\n",
    "    new_map = [[map_[x][y] for y in range(len(map_[x]))] for x in range(len(map_))]\n",
    "    new_map[wall_positions[0]][wall_positions[1]] = 0\n",
    "    return new_map\n",
    "\n",
    "def solution(maze):\n",
    "    paths = []\n",
    "    for wall in get_walls(maze):\n",
    "        new_map = remove_wall(maze, wall)\n",
    "        print(new_map)\n",
    "        print(\"---\")\n",
    "        moves = exit(new_map)\n",
    "        paths.append(moves)\n",
    "    return min(paths)"
   ]
  },
  {
   "cell_type": "code",
   "execution_count": 163,
   "metadata": {},
   "outputs": [
    {
     "name": "stdout",
     "output_type": "stream",
     "text": [
      "[[0, 0, 0, 0, 0, 0], [0, 1, 1, 1, 1, 0], [0, 0, 0, 0, 0, 0], [0, 1, 1, 1, 1, 1], [0, 1, 1, 1, 1, 1], [0, 0, 0, 0, 0, 0]]\n",
      "---\n",
      "[[0, 0, 0, 0, 0, 0], [1, 0, 1, 1, 1, 0], [0, 0, 0, 0, 0, 0], [0, 1, 1, 1, 1, 1], [0, 1, 1, 1, 1, 1], [0, 0, 0, 0, 0, 0]]\n",
      "---\n",
      "[[0, 0, 0, 0, 0, 0], [1, 1, 0, 1, 1, 0], [0, 0, 0, 0, 0, 0], [0, 1, 1, 1, 1, 1], [0, 1, 1, 1, 1, 1], [0, 0, 0, 0, 0, 0]]\n",
      "---\n",
      "[[0, 0, 0, 0, 0, 0], [1, 1, 1, 0, 1, 0], [0, 0, 0, 0, 0, 0], [0, 1, 1, 1, 1, 1], [0, 1, 1, 1, 1, 1], [0, 0, 0, 0, 0, 0]]\n",
      "---\n",
      "[[0, 0, 0, 0, 0, 0], [1, 1, 1, 1, 0, 0], [0, 0, 0, 0, 0, 0], [0, 1, 1, 1, 1, 1], [0, 1, 1, 1, 1, 1], [0, 0, 0, 0, 0, 0]]\n",
      "---\n",
      "[[0, 0, 0, 0, 0, 0], [1, 1, 1, 1, 1, 0], [0, 0, 0, 0, 0, 0], [0, 0, 1, 1, 1, 1], [0, 1, 1, 1, 1, 1], [0, 0, 0, 0, 0, 0]]\n",
      "---\n",
      "[[0, 0, 0, 0, 0, 0], [1, 1, 1, 1, 1, 0], [0, 0, 0, 0, 0, 0], [0, 1, 0, 1, 1, 1], [0, 1, 1, 1, 1, 1], [0, 0, 0, 0, 0, 0]]\n",
      "---\n",
      "[[0, 0, 0, 0, 0, 0], [1, 1, 1, 1, 1, 0], [0, 0, 0, 0, 0, 0], [0, 1, 1, 0, 1, 1], [0, 1, 1, 1, 1, 1], [0, 0, 0, 0, 0, 0]]\n",
      "---\n",
      "[[0, 0, 0, 0, 0, 0], [1, 1, 1, 1, 1, 0], [0, 0, 0, 0, 0, 0], [0, 1, 1, 1, 0, 1], [0, 1, 1, 1, 1, 1], [0, 0, 0, 0, 0, 0]]\n",
      "---\n",
      "[[0, 0, 0, 0, 0, 0], [1, 1, 1, 1, 1, 0], [0, 0, 0, 0, 0, 0], [0, 1, 1, 1, 1, 0], [0, 1, 1, 1, 1, 1], [0, 0, 0, 0, 0, 0]]\n",
      "---\n",
      "[[0, 0, 0, 0, 0, 0], [1, 1, 1, 1, 1, 0], [0, 0, 0, 0, 0, 0], [0, 1, 1, 1, 1, 1], [0, 0, 1, 1, 1, 1], [0, 0, 0, 0, 0, 0]]\n",
      "---\n",
      "[[0, 0, 0, 0, 0, 0], [1, 1, 1, 1, 1, 0], [0, 0, 0, 0, 0, 0], [0, 1, 1, 1, 1, 1], [0, 1, 0, 1, 1, 1], [0, 0, 0, 0, 0, 0]]\n",
      "---\n",
      "[[0, 0, 0, 0, 0, 0], [1, 1, 1, 1, 1, 0], [0, 0, 0, 0, 0, 0], [0, 1, 1, 1, 1, 1], [0, 1, 1, 0, 1, 1], [0, 0, 0, 0, 0, 0]]\n",
      "---\n",
      "[[0, 0, 0, 0, 0, 0], [1, 1, 1, 1, 1, 0], [0, 0, 0, 0, 0, 0], [0, 1, 1, 1, 1, 1], [0, 1, 1, 1, 0, 1], [0, 0, 0, 0, 0, 0]]\n",
      "---\n",
      "[[0, 0, 0, 0, 0, 0], [1, 1, 1, 1, 1, 0], [0, 0, 0, 0, 0, 0], [0, 1, 1, 1, 1, 1], [0, 1, 1, 1, 1, 0], [0, 0, 0, 0, 0, 0]]\n",
      "---\n"
     ]
    },
    {
     "data": {
      "text/plain": [
       "11"
      ]
     },
     "execution_count": 163,
     "metadata": {},
     "output_type": "execute_result"
    }
   ],
   "source": [
    "solution(tests[1])"
   ]
  },
  {
   "cell_type": "code",
   "execution_count": 164,
   "metadata": {},
   "outputs": [
    {
     "name": "stdout",
     "output_type": "stream",
     "text": [
      "[[0, 0], [0, 1]]\n",
      "---\n",
      "[[0, 1], [0, 0]]\n",
      "---\n"
     ]
    },
    {
     "data": {
      "text/plain": [
       "0"
      ]
     },
     "execution_count": 164,
     "metadata": {},
     "output_type": "execute_result"
    }
   ],
   "source": [
    "solution([[0, 1], [0, 1]])"
   ]
  },
  {
   "cell_type": "code",
   "execution_count": 125,
   "metadata": {},
   "outputs": [],
   "source": [
    "def adjacent(maze, position):\n",
    "    # unravel position\n",
    "    x, y = position\n",
    "    # actions\n",
    "    down = (x + 1, y)\n",
    "    up = (x - 1, y)\n",
    "    left = (x, y - 1)\n",
    "    right = (x, y + 1)\n",
    "    actions = [down, up, left, right]\n",
    "    # filter invalid actions\n",
    "    return [action for action in actions if is_valid(action, maze)]\n",
    "\n",
    "def is_valid(action, map_):\n",
    "    # unravel state\n",
    "    x, y = action\n",
    "    # x out of bounds\n",
    "    if x < 0 or x > len(map_) - 1:\n",
    "        return False\n",
    "    # y out of bounds\n",
    "    if y < 0 or y > len(map_[0]) - 1:\n",
    "        return False\n",
    "    # wall\n",
    "    if map_[x][y] == 1:\n",
    "        return False\n",
    "    return True\n",
    "\n",
    "def exit(maze, position=(0, 0)):\n",
    "    parent = {}\n",
    "    for new_position in adjacent(maze, position):\n",
    "        if new_position not in parent:\n",
    "            parent[new_position] = position\n",
    "            exit(maze, new_position)"
   ]
  },
  {
   "cell_type": "code",
   "execution_count": 126,
   "metadata": {},
   "outputs": [
    {
     "ename": "RecursionError",
     "evalue": "maximum recursion depth exceeded in comparison",
     "output_type": "error",
     "traceback": [
      "\u001b[0;31m---------------------------------------------------------------------------\u001b[0m",
      "\u001b[0;31mRecursionError\u001b[0m                            Traceback (most recent call last)",
      "\u001b[0;32m<ipython-input-126-3dcebad156b9>\u001b[0m in \u001b[0;36m<module>\u001b[0;34m\u001b[0m\n\u001b[0;32m----> 1\u001b[0;31m \u001b[0mexit\u001b[0m\u001b[0;34m(\u001b[0m\u001b[0mtests\u001b[0m\u001b[0;34m[\u001b[0m\u001b[0;36m0\u001b[0m\u001b[0;34m]\u001b[0m\u001b[0;34m)\u001b[0m\u001b[0;34m\u001b[0m\u001b[0;34m\u001b[0m\u001b[0m\n\u001b[0m",
      "\u001b[0;32m<ipython-input-125-74d07bce4e49>\u001b[0m in \u001b[0;36mexit\u001b[0;34m(maze, position)\u001b[0m\n\u001b[1;32m     30\u001b[0m         \u001b[0;32mif\u001b[0m \u001b[0mnew_position\u001b[0m \u001b[0;32mnot\u001b[0m \u001b[0;32min\u001b[0m \u001b[0mparent\u001b[0m\u001b[0;34m:\u001b[0m\u001b[0;34m\u001b[0m\u001b[0;34m\u001b[0m\u001b[0m\n\u001b[1;32m     31\u001b[0m             \u001b[0mparent\u001b[0m\u001b[0;34m[\u001b[0m\u001b[0mnew_position\u001b[0m\u001b[0;34m]\u001b[0m \u001b[0;34m=\u001b[0m \u001b[0mposition\u001b[0m\u001b[0;34m\u001b[0m\u001b[0;34m\u001b[0m\u001b[0m\n\u001b[0;32m---> 32\u001b[0;31m             \u001b[0mexit\u001b[0m\u001b[0;34m(\u001b[0m\u001b[0mmaze\u001b[0m\u001b[0;34m,\u001b[0m \u001b[0mnew_position\u001b[0m\u001b[0;34m)\u001b[0m\u001b[0;34m\u001b[0m\u001b[0;34m\u001b[0m\u001b[0m\n\u001b[0m",
      "... last 1 frames repeated, from the frame below ...\n",
      "\u001b[0;32m<ipython-input-125-74d07bce4e49>\u001b[0m in \u001b[0;36mexit\u001b[0;34m(maze, position)\u001b[0m\n\u001b[1;32m     30\u001b[0m         \u001b[0;32mif\u001b[0m \u001b[0mnew_position\u001b[0m \u001b[0;32mnot\u001b[0m \u001b[0;32min\u001b[0m \u001b[0mparent\u001b[0m\u001b[0;34m:\u001b[0m\u001b[0;34m\u001b[0m\u001b[0;34m\u001b[0m\u001b[0m\n\u001b[1;32m     31\u001b[0m             \u001b[0mparent\u001b[0m\u001b[0;34m[\u001b[0m\u001b[0mnew_position\u001b[0m\u001b[0;34m]\u001b[0m \u001b[0;34m=\u001b[0m \u001b[0mposition\u001b[0m\u001b[0;34m\u001b[0m\u001b[0;34m\u001b[0m\u001b[0m\n\u001b[0;32m---> 32\u001b[0;31m             \u001b[0mexit\u001b[0m\u001b[0;34m(\u001b[0m\u001b[0mmaze\u001b[0m\u001b[0;34m,\u001b[0m \u001b[0mnew_position\u001b[0m\u001b[0;34m)\u001b[0m\u001b[0;34m\u001b[0m\u001b[0;34m\u001b[0m\u001b[0m\n\u001b[0m",
      "\u001b[0;31mRecursionError\u001b[0m: maximum recursion depth exceeded in comparison"
     ]
    }
   ],
   "source": [
    "exit(tests[0])"
   ]
  },
  {
   "cell_type": "code",
   "execution_count": null,
   "metadata": {},
   "outputs": [],
   "source": [
    "parent"
   ]
  },
  {
   "cell_type": "code",
   "execution_count": 183,
   "metadata": {},
   "outputs": [],
   "source": [
    "def is_valid(action, map_):\n",
    "    # unravel state\n",
    "    x, y = action\n",
    "    # x out of bounds\n",
    "    if x < 0 or x > len(map_) - 1:\n",
    "        return False\n",
    "    # y out of bounds\n",
    "    if y < 0 or y > len(map_[0]) - 1:\n",
    "        return False\n",
    "    # wall\n",
    "    if map_[x][y] == 1:\n",
    "        return False\n",
    "    return True\n",
    "\n",
    "def adjacent(maze, position):\n",
    "    # unravel position\n",
    "    x, y = position\n",
    "    # actions\n",
    "    down = (x + 1, y)\n",
    "    up = (x - 1, y)\n",
    "    left = (x, y - 1)\n",
    "    right = (x, y + 1)\n",
    "    actions = [down, up, left, right]\n",
    "    # filter invalid actions\n",
    "    return [action for action in actions if is_valid(action, maze)]\n",
    "\n",
    "\n",
    "def bfs(maze, pos):\n",
    "    queue = [pos]\n",
    "    level = {pos: 0}\n",
    "    end = (len(maze) - 1, len(maze) - 1)\n",
    "    \n",
    "    while len(queue) > 0:\n",
    "        node = queue.pop(0)\n",
    "        \n",
    "        for child in adjacent(maze, node):\n",
    "            print(level)\n",
    "            if child not in level:\n",
    "                queue.append(child)\n",
    "                level[child] = level[node] + 1\n",
    "            \n",
    "            if child == end:\n",
    "                return level[end]\n",
    "    return 0\n",
    "                    \n",
    "def solution(maze):\n",
    "    w = len(maze[0])\n",
    "    h = len(maze)\n",
    "    tb = bfs(maze, (0, 0))\n",
    "    bt = bfs(maze, (h-1, w-1))\n",
    "    board = []\n",
    "\n",
    "    shortest = float(\"inf\")\n",
    "    for i in range(h):\n",
    "        for j in range(w):\n",
    "            if tb[i][j] and bt[i][j]:\n",
    "                shortest = min(tb[i][j] + bt[i][j] - 1, shortest)\n",
    "    return shortest"
   ]
  },
  {
   "cell_type": "code",
   "execution_count": 184,
   "metadata": {},
   "outputs": [
    {
     "name": "stdout",
     "output_type": "stream",
     "text": [
      "{(0, 0): 0}\n",
      "{(0, 0): 0, (0, 1): 1}\n",
      "{(0, 3): 0}\n",
      "{(0, 3): 0, (0, 2): 1}\n",
      "{(0, 3): 0, (0, 2): 1, (0, 1): 2}\n",
      "{(0, 3): 0, (0, 2): 1, (0, 1): 2}\n",
      "0\n",
      "3\n"
     ]
    },
    {
     "ename": "TypeError",
     "evalue": "'int' object is not subscriptable",
     "output_type": "error",
     "traceback": [
      "\u001b[0;31m---------------------------------------------------------------------------\u001b[0m",
      "\u001b[0;31mTypeError\u001b[0m                                 Traceback (most recent call last)",
      "\u001b[0;32m<ipython-input-184-be377d70b82a>\u001b[0m in \u001b[0;36m<module>\u001b[0;34m\u001b[0m\n\u001b[0;32m----> 1\u001b[0;31m \u001b[0msolution\u001b[0m\u001b[0;34m(\u001b[0m\u001b[0;34m[\u001b[0m\u001b[0mtests\u001b[0m\u001b[0;34m[\u001b[0m\u001b[0;36m0\u001b[0m\u001b[0;34m]\u001b[0m\u001b[0;34m]\u001b[0m\u001b[0;34m)\u001b[0m\u001b[0;34m\u001b[0m\u001b[0;34m\u001b[0m\u001b[0m\n\u001b[0m",
      "\u001b[0;32m<ipython-input-183-8f091187d5c4>\u001b[0m in \u001b[0;36msolution\u001b[0;34m(maze)\u001b[0m\n\u001b[1;32m     56\u001b[0m             \u001b[0mprint\u001b[0m\u001b[0;34m(\u001b[0m\u001b[0mtb\u001b[0m\u001b[0;34m)\u001b[0m\u001b[0;34m\u001b[0m\u001b[0;34m\u001b[0m\u001b[0m\n\u001b[1;32m     57\u001b[0m             \u001b[0mprint\u001b[0m\u001b[0;34m(\u001b[0m\u001b[0mbt\u001b[0m\u001b[0;34m)\u001b[0m\u001b[0;34m\u001b[0m\u001b[0;34m\u001b[0m\u001b[0m\n\u001b[0;32m---> 58\u001b[0;31m             \u001b[0;32mif\u001b[0m \u001b[0mtb\u001b[0m\u001b[0;34m[\u001b[0m\u001b[0mi\u001b[0m\u001b[0;34m]\u001b[0m\u001b[0;34m[\u001b[0m\u001b[0mj\u001b[0m\u001b[0;34m]\u001b[0m \u001b[0;32mand\u001b[0m \u001b[0mbt\u001b[0m\u001b[0;34m[\u001b[0m\u001b[0mi\u001b[0m\u001b[0;34m]\u001b[0m\u001b[0;34m[\u001b[0m\u001b[0mj\u001b[0m\u001b[0;34m]\u001b[0m\u001b[0;34m:\u001b[0m\u001b[0;34m\u001b[0m\u001b[0;34m\u001b[0m\u001b[0m\n\u001b[0m\u001b[1;32m     59\u001b[0m                 \u001b[0mshortest\u001b[0m \u001b[0;34m=\u001b[0m \u001b[0mmin\u001b[0m\u001b[0;34m(\u001b[0m\u001b[0mtb\u001b[0m\u001b[0;34m[\u001b[0m\u001b[0mi\u001b[0m\u001b[0;34m]\u001b[0m\u001b[0;34m[\u001b[0m\u001b[0mj\u001b[0m\u001b[0;34m]\u001b[0m \u001b[0;34m+\u001b[0m \u001b[0mbt\u001b[0m\u001b[0;34m[\u001b[0m\u001b[0mi\u001b[0m\u001b[0;34m]\u001b[0m\u001b[0;34m[\u001b[0m\u001b[0mj\u001b[0m\u001b[0;34m]\u001b[0m \u001b[0;34m-\u001b[0m \u001b[0;36m1\u001b[0m\u001b[0;34m,\u001b[0m \u001b[0mshortest\u001b[0m\u001b[0;34m)\u001b[0m\u001b[0;34m\u001b[0m\u001b[0;34m\u001b[0m\u001b[0m\n\u001b[1;32m     60\u001b[0m     \u001b[0;32mreturn\u001b[0m \u001b[0mshortest\u001b[0m\u001b[0;34m\u001b[0m\u001b[0;34m\u001b[0m\u001b[0m\n",
      "\u001b[0;31mTypeError\u001b[0m: 'int' object is not subscriptable"
     ]
    }
   ],
   "source": [
    "solution([tests[0]])"
   ]
  },
  {
   "cell_type": "code",
   "execution_count": 196,
   "metadata": {},
   "outputs": [],
   "source": [
    "def is_valid(action, map_):\n",
    "    # unravel state\n",
    "    x, y = action\n",
    "        return False\n",
    "    \n",
    "    # wall\n",
    "    if map_[x][y] == 1:\n",
    "        return False\n",
    "    return True\n",
    "\n",
    "def adjacent(maze, position):\n",
    "    # unravel position\n",
    "    x, y = position\n",
    "    # actions\n",
    "    down = (x + 1, y)\n",
    "    up = (x - 1, y)\n",
    "    left = (x, y - 1)\n",
    "    right = (x, y + 1)\n",
    "    actions = [down, up, left, right]\n",
    "    # filter invalid actions\n",
    "    return [action for action in actions if is_valid(action, maze)]\n",
    "\n",
    "\n",
    "def bfs(maze):\n",
    "    start = (0, 0)\n",
    "    queue = [start]\n",
    "    level = {start: 0}\n",
    "    end = (len(maze) - 1, len(maze) - 1)\n",
    "    \n",
    "    while len(queue) > 0:\n",
    "        node = queue.pop(0)\n",
    "        \n",
    "        for child in adjacent(maze, node):\n",
    "            if child not in level:\n",
    "                queue.append(child)\n",
    "                level[child] = level[node] + 1\n",
    "            \n",
    "            if child == end:\n",
    "                return level[end]\n",
    "    return 0\n",
    "\n",
    "def get_walls(map_):\n",
    "    walls = []\n",
    "    for x in range(len(map_)):\n",
    "        for y in range(len(map_[x])):\n",
    "            if map_[x][y]:\n",
    "                walls.append((x, y))\n",
    "    return walls\n",
    "\n",
    "def remove_wall(map_, wall):\n",
    "    new_map = [[map_[x][y] for y in range(len(map_[x]))] for x in range(len(map_))]\n",
    "    new_map[wall[0]][wall[1]] = 0\n",
    "    return new_map\n",
    "\n",
    "def solution(maze):\n",
    "    paths = []\n",
    "    paths.append(bfs(maze))\n",
    "    for wall in get_walls(maze):\n",
    "        new_map = remove_wall(maze, wall)\n",
    "        moves = bfs(new_map)\n",
    "        paths.append(moves)\n",
    "    return min(paths) + 1"
   ]
  },
  {
   "cell_type": "code",
   "execution_count": 198,
   "metadata": {},
   "outputs": [
    {
     "data": {
      "text/plain": [
       "7"
      ]
     },
     "execution_count": 198,
     "metadata": {},
     "output_type": "execute_result"
    }
   ],
   "source": [
    "solution(tests[0])"
   ]
  },
  {
   "cell_type": "code",
   "execution_count": null,
   "metadata": {},
   "outputs": [],
   "source": []
  },
  {
   "cell_type": "code",
   "execution_count": null,
   "metadata": {},
   "outputs": [],
   "source": []
  },
  {
   "cell_type": "code",
   "execution_count": null,
   "metadata": {},
   "outputs": [],
   "source": []
  },
  {
   "cell_type": "code",
   "execution_count": null,
   "metadata": {},
   "outputs": [],
   "source": []
  },
  {
   "cell_type": "code",
   "execution_count": 230,
   "metadata": {},
   "outputs": [],
   "source": [
    "def bfs(maze, pos):\n",
    "    w = len(maze[0])\n",
    "    h = len(maze)\n",
    "    level = {pos: 0}\n",
    "\n",
    "    queue = [pos]\n",
    "    while len(queue) > 0:\n",
    "        # dequeue\n",
    "        node = queue.pop(0)\n",
    "        \n",
    "        # move\n",
    "        for i in [(1, 0), (-1, 0), (0, -1), (0, 1)]:\n",
    "            child = (node[0] + i[0], node[1] + i[1])\n",
    "            # if out of bounds\n",
    "            if 0 <= child[0] < h and 0 <= child[1] < w:\n",
    "                if child not in level:\n",
    "                    level[child] = level[node] + 1\n",
    "                    # hit a wall\n",
    "                    if maze[child[0]][child[1]] == 1:\n",
    "                        continue\n",
    "                    queue.append(child) \n",
    "\n",
    "    return level\n",
    "\n",
    "def solution(maze):\n",
    "    w = len(maze[0])\n",
    "    h = len(maze)\n",
    "    tb = bfs(maze, (0, 0))\n",
    "    bt = bfs(maze, (h - 1, w - 1))\n",
    "#     print(tb, bt)\n",
    "\n",
    "    shortest = float(\"inf\")\n",
    "    for i in range(h):\n",
    "        for j in range(w):\n",
    "            if (i, j) in tb and (i, j) in bt:\n",
    "                shortest = min(tb[(i, j)] + bt[(i, j)] + 1, shortest)\n",
    "    return shortest"
   ]
  },
  {
   "cell_type": "code",
   "execution_count": 231,
   "metadata": {},
   "outputs": [
    {
     "data": {
      "text/plain": [
       "11"
      ]
     },
     "execution_count": 231,
     "metadata": {},
     "output_type": "execute_result"
    }
   ],
   "source": [
    "solution(tests[1])"
   ]
  },
  {
   "cell_type": "code",
   "execution_count": null,
   "metadata": {},
   "outputs": [],
   "source": []
  },
  {
   "cell_type": "code",
   "execution_count": null,
   "metadata": {},
   "outputs": [],
   "source": []
  },
  {
   "cell_type": "code",
   "execution_count": null,
   "metadata": {},
   "outputs": [],
   "source": [
    "def sht_pth(sx, sy, maze):\n",
    "    w = len(maze[0])\n",
    "    h = len(maze)\n",
    "    board = [[None for i in range(w)] for i in range(h)]\n",
    "    board[sx][sy] = 1\n",
    "\n",
    "    arr = [(sx, sy)]\n",
    "    while arr:\n",
    "        x, y = arr.pop(0)\n",
    "        for i in [[1,0],[-1,0],[0,-1],[0,1]]:\n",
    "          nx, ny = x + i[0], y + i[1]\n",
    "          if 0 <= nx < h and 0 <= ny < w:\n",
    "            if board[nx][ny] is None:\n",
    "                board[nx][ny] = board[x][y] + 1\n",
    "                if maze[nx][ny] == 1 :\n",
    "                  continue\n",
    "                arr.append((nx, ny)) \n",
    "                  \n",
    "    return board\n",
    "\n",
    "def solution(maze):\n",
    "  w = len(maze[0])\n",
    "  h = len(maze)\n",
    "  tb = sht_pth(0, 0, maze)\n",
    "  bt = sht_pth(h-1, w-1, maze)\n",
    "  board = []\n",
    "\n",
    "  ans = 2 ** 32-1\n",
    "  for i in range(h):\n",
    "      for j in range(w):\n",
    "          if tb[i][j] and bt[i][j]:\n",
    "              ans = min(tb[i][j] + bt[i][j] - 1, ans)\n",
    "  return ans"
   ]
  }
 ],
 "metadata": {
  "kernelspec": {
   "display_name": "Python 3",
   "language": "python",
   "name": "python3"
  },
  "language_info": {
   "codemirror_mode": {
    "name": "ipython",
    "version": 3
   },
   "file_extension": ".py",
   "mimetype": "text/x-python",
   "name": "python",
   "nbconvert_exporter": "python",
   "pygments_lexer": "ipython3",
   "version": "3.7.4"
  }
 },
 "nbformat": 4,
 "nbformat_minor": 4
}
